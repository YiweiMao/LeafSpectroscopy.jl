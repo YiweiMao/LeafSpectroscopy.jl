{
 "cells": [
  {
   "cell_type": "markdown",
   "id": "280b14b6-a4c5-4edd-8f2b-317d9dfc0cdf",
   "metadata": {},
   "source": [
    "---\n",
    "title: \"About\"\n",
    "format:\n",
    "  html:\n",
    "    code-fold: true\n",
    "jupyter: julia-1.9\n",
    "---"
   ]
  },
  {
   "cell_type": "markdown",
   "id": "57a15fae-f42d-4615-8a8e-d1c750bb87b7",
   "metadata": {},
   "source": [
    "This is a project to experimentally verify fluorescence yields in leaves and to model the dynamics under light sources across the visible spectrum. \n",
    "\n",
    "The team consists of Yiwei Mao, Christian Frankenberg, Yujie Wang, and Yinon Bar-On. \n",
    "Contributions to the project can be made to our [Github repository](github.com/YiweiMao/LeafSpectroscopy.jl/).\n",
    "\n",
    "\n",
    "![](../data/leaf.ico)"
   ]
  },
  {
   "cell_type": "code",
   "execution_count": null,
   "id": "2ae1ec83-04ce-4bda-84dc-c2dfc108632c",
   "metadata": {},
   "outputs": [],
   "source": []
  }
 ],
 "metadata": {
  "kernelspec": {
   "display_name": "Julia 1.9.3",
   "language": "julia",
   "name": "julia-1.9"
  }
 },
 "nbformat": 4,
 "nbformat_minor": 5
}
