{
 "cells": [
  {
   "cell_type": "markdown",
   "id": "12aaf54a-7c02-47ab-90fc-3339d9a25dd9",
   "metadata": {},
   "source": [
    "---\n",
    "title: \"Spectrometers\"\n",
    "author: \"Yiwei Mao\"\n",
    "date: \"11/06/2023\"\n",
    "format:\n",
    "  html:\n",
    "    code-tools: true\n",
    "    code-fold: true\n",
    "jupyter: julia-1.9\n",
    "---"
   ]
  },
  {
   "cell_type": "code",
   "execution_count": null,
   "id": "141ee705-8c8c-4249-b015-90cedbf08c4f",
   "metadata": {},
   "outputs": [],
   "source": [
    "#| echo: false\n",
    "using Pkg; Pkg.activate(\".\")"
   ]
  },
  {
   "cell_type": "markdown",
   "id": "ed8e9e66-5ca3-418e-a8e8-d838228806c9",
   "metadata": {},
   "source": [
    "# QEpro\n",
    "\n",
    "::: {.callout-caution}\n",
    "## Work in progress\n",
    "\n",
    "To be continued...\n",
    ":::\n",
    "\n",
    "# Flame\n",
    "\n",
    "\n"
   ]
  },
  {
   "cell_type": "code",
   "execution_count": null,
   "id": "f993d3cd-000b-43ae-bb8c-f643fb5ec5c7",
   "metadata": {},
   "outputs": [],
   "source": []
  }
 ],
 "metadata": {
  "kernelspec": {
   "display_name": "Julia 1.9.3",
   "language": "julia",
   "name": "julia-1.9"
  }
 },
 "nbformat": 4,
 "nbformat_minor": 5
}
