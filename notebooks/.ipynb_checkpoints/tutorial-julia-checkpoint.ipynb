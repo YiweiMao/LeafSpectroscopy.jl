{
 "cells": [
  {
   "cell_type": "markdown",
   "id": "c2220a6d-805f-4a4b-a365-edbca4e6d9c4",
   "metadata": {},
   "source": [
    "---\n",
    "title: \"Julia for the beginner*\"\n",
    "subtitle: \"*For someone familiar with Python programming and new to Julia\"\n",
    "description: \"Disclaimer: example codes were generated using ChatGPT and tested.\"\n",
    "author: \"Yiwei Mao\"\n",
    "date: \"11/04/2023\"\n",
    "#date-modified: \"11/06/2023\"\n",
    "format:\n",
    "  html:\n",
    "    code-tools: true\n",
    "    code-fold: false\n",
    "jupyter: julia-1.9\n",
    "---"
   ]
  },
  {
   "cell_type": "markdown",
   "id": "297d7507-8ffb-4269-8a60-a0955b111051",
   "metadata": {},
   "source": [
    "\n",
    "I am approaching this as someone familiar with programming in Python which I think is most people. This guide is a summary of my learning experience in the hope that it is helpful for others learning Julia for the first time. \n",
    "\n",
    "# How is Julia different from Python?\n",
    "Julia is a functional program language designed to run as fast as C compiled code. However, instead of running code through an interpreter, Julia code needs to be compiled first. It is able to be fast because of type stability and using functions mean you avoid global variables. Interestingly, Julia can be similar to Python with dynamic typing and can be used interactively. One major difference is that, like Matlab, array indices start 1 rather than 0. Julia is written in Julia which cannot be said for Python. Julia also does not have the Global Interpreter Lock issue of Python. \n",
    "\n",
    "Where Julia is lacking is good documention and support for packages as it is a smaller community than the behemoth that is the Python ecosystem. This project is one step towards making it easier to practioners to produce documented source code and therefore promote collaboration. \n",
    "\n",
    "# Core packages to install\n",
    "\n",
    "There a few packages that will make it easier to start. These can be installed using `Pkg`. "
   ]
  },
  {
   "cell_type": "code",
   "execution_count": null,
   "id": "aa4182d1-3f1b-4b8d-83c5-74d5348c2310",
   "metadata": {},
   "outputs": [],
   "source": [
    "using Pkg"
   ]
  },
  {
   "cell_type": "markdown",
   "id": "d10d0173-19a5-4ae0-8e82-8f3e2e6aa35c",
   "metadata": {},
   "source": [
    "::: {.callout-note}\n",
    "You can also enter the package manager using `]` and exit using backspace. In this mode, packages can be installed with `add package_to_install`. \n",
    ":::\n"
   ]
  },
  {
   "cell_type": "code",
   "execution_count": null,
   "id": "818a7c11-2de1-42e2-9ee1-1b219caf0594",
   "metadata": {},
   "outputs": [
    {
     "name": "stderr",
     "output_type": "stream",
     "text": [
      "\u001b[32m\u001b[1m   Resolving\u001b[22m\u001b[39m package versions...\n",
      "\u001b[32m\u001b[1m  No Changes\u001b[22m\u001b[39m to `~/.julia/environments/v1.9/Project.toml`\n",
      "\u001b[32m\u001b[1m  No Changes\u001b[22m\u001b[39m to `~/.julia/environments/v1.9/Manifest.toml`\n"
     ]
    }
   ],
   "source": [
    "#| output: false\n",
    "Pkg.add(\"IJulia\")"
   ]
  },
  {
   "cell_type": "code",
   "execution_count": null,
   "id": "01ae9295-b0dc-4935-a505-2f59a667232c",
   "metadata": {},
   "outputs": [
    {
     "name": "stderr",
     "output_type": "stream",
     "text": [
      "\u001b[32m\u001b[1m   Resolving\u001b[22m\u001b[39m package versions...\n",
      "\u001b[32m\u001b[1m  No Changes\u001b[22m\u001b[39m to `~/.julia/environments/v1.9/Project.toml`\n",
      "\u001b[32m\u001b[1m  No Changes\u001b[22m\u001b[39m to `~/.julia/environments/v1.9/Manifest.toml`\n"
     ]
    }
   ],
   "source": [
    "#| output: false\n",
    "Pkg.add(\"PlotlyJS\")"
   ]
  },
  {
   "cell_type": "markdown",
   "id": "b252c723-f764-4b6b-ada4-319a0472ff9c",
   "metadata": {},
   "source": [
    "\n",
    "\n",
    ":::{.callout-important}\n",
    "To use the Plotly backend, just run\n",
    "```julia\n",
    "using PlotlyJS\n",
    "```\n",
    "at the start. \n",
    ":::\n",
    "\n",
    "and "
   ]
  },
  {
   "cell_type": "markdown",
   "id": "378b2ea4-e03f-4bc3-a10a-52945c3ca965",
   "metadata": {},
   "source": [
    "## Revise.jl\n",
    "\n",
    "Revise.jl is a Julia package that provides a way to update function definitions in a running Julia session. This package is particularly useful during development, where you might iteratively change your code and want those changes to be reflected in your session without restarting it.\n",
    "\n",
    "The key feature of Revise.jl is that it can track changes in your source code and, upon saving the file, automatically update those changes in the Julia environment. This means that after editing your Julia source files, the changes can be immediately tested in the REPL, Jupyter notebook, or other interactive environments without the need for manual recompilation or restarting Julia.\n",
    "\n",
    "\n",
    "```julia\n",
    "Pkg.add(\"Revise\")\n",
    "```\n"
   ]
  },
  {
   "cell_type": "code",
   "execution_count": null,
   "id": "4ed3a9e8-900c-4b12-9ae5-2ba361dd7683",
   "metadata": {},
   "outputs": [],
   "source": [
    "using Revise"
   ]
  },
  {
   "cell_type": "markdown",
   "id": "24f428c2-8665-4e15-ac8b-472b838857b4",
   "metadata": {},
   "source": [
    "## Other Julia resources\n",
    "\n",
    "For a summary of Julia features, check out <https://cheatsheet.juliadocs.org/>.\n",
    "\n",
    "I went through the MIT course introducing Julia which was excellently designed and motivated. Highly recommended!  \n",
    "The course is called Introduction to Computational Thinking  <https://computationalthinking.mit.edu/Fall23/> \n",
    "and I think it is well titled as I certainly had to develop a different way of thinking to code in Julia. Below are some major points that changes the way you code. \n",
    "\n",
    "\n",
    "# Types and Functions (No Classes and Methods)\n",
    "\n",
    "This continues to be thing that frustrates me as I got really used to object oriented programming. Instead of class objects which contain attributes and methods, you can simulate a similar thing in Julia with mutable struct types and functions that apply on those structs. \n",
    "\n",
    "I got so used to tab complete when accessing attributes and methods for each class object and now I have to keep track of which functions apply to types which is available in the current namespace. \n",
    "\n",
    "You can constructor when you define a struct to check the values make sense kind of like using `__init__(self)` in Python. \n"
   ]
  },
  {
   "cell_type": "code",
   "execution_count": null,
   "id": "bd98683e-724d-4472-97d1-65767d35a848",
   "metadata": {},
   "outputs": [
    {
     "name": "stdout",
     "output_type": "stream",
     "text": [
      "Car(\"Tesla Model S\", 2020, true, 15000.0)\n"
     ]
    }
   ],
   "source": [
    "using Dates\n",
    "mutable struct Car\n",
    "    model::String\n",
    "    year::Int\n",
    "    is_electric::Bool\n",
    "    mileage::Float64\n",
    "\n",
    "    # Custom constructor\n",
    "    function Car(model::String, year::Int, is_electric::Bool, mileage::Float64)\n",
    "        current_year = Dates.year(Dates.today())\n",
    "        if year > current_year || year < 1886  # The year the first car was invented\n",
    "            error(\"Invalid year of manufacture: $year\")\n",
    "        end\n",
    "        if mileage < 0\n",
    "            error(\"Mileage cannot be negative: $mileage\")\n",
    "        end\n",
    "        new(model, year, is_electric, mileage)\n",
    "    end\n",
    "end\n",
    "\n",
    "# Assuming the current year is 2023 for this example\n",
    "my_car = Car(\"Tesla Model S\", 2020, true, 15000.0)\n",
    "println(my_car)"
   ]
  },
  {
   "cell_type": "markdown",
   "id": "fd35a751-acc8-48d9-911c-88a16568fca8",
   "metadata": {},
   "source": [
    "\n",
    "## Structs are immutable\n",
    "\n",
    "A struct datatype is like a Python class with only immutable attributes. It defines a data type. To make a struct mutatble, simply use `mutable struct` instead of `struct`. \n"
   ]
  },
  {
   "cell_type": "code",
   "execution_count": null,
   "id": "465e821d-3670-43ce-8868-748a4097816e",
   "metadata": {},
   "outputs": [
    {
     "name": "stdout",
     "output_type": "stream",
     "text": [
      "Name: Julia, Age: 31\n"
     ]
    }
   ],
   "source": [
    "# Define a mutable struct named Person\n",
    "mutable struct Person\n",
    "    name::String\n",
    "    age::Int\n",
    "end\n",
    "\n",
    "# Create an instance of Person\n",
    "julia = Person(\"Julia\", 30)\n",
    "\n",
    "# Since it's mutable, we can change the fields after creation\n",
    "julia.age = 31  # This is allowed and the age is updated to 31\n",
    "\n",
    "println(\"Name: \", julia.name, \", Age: \", julia.age)  # Outputs: Name: Julia, Age: 31"
   ]
  },
  {
   "cell_type": "markdown",
   "id": "267651d2-ab07-4865-a002-7292101f629b",
   "metadata": {},
   "source": []
  },
  {
   "cell_type": "markdown",
   "id": "7b0985a4-a233-441a-b88d-aaddfc07a31c",
   "metadata": {},
   "source": [
    "# Multiple Dispatch\n",
    "This is my favourite part of using Julia which allows functions to specialise on types so that the behaviour of a function depends on the types of its arguments. In other words, it allows you to define functions with the same name but different behaviors depending on the types of their arguments. Here's an example that demonstrates this:\n"
   ]
  },
  {
   "cell_type": "code",
   "execution_count": null,
   "id": "3e2c9732-83b3-4f81-ae3e-55cb4d875443",
   "metadata": {},
   "outputs": [
    {
     "name": "stdout",
     "output_type": "stream",
     "text": [
      "Hello, Alice!\n",
      "I will greet you 3 times!\n",
      "Hello, Bob! This is time number 1.\n",
      "Hello, Bob! This is time number 2.\n"
     ]
    }
   ],
   "source": [
    "# A simple function that takes one argument and prints a message\n",
    "function greet(person::String)\n",
    "    println(\"Hello, $(person)!\")\n",
    "end\n",
    "\n",
    "# Another version of the function 'greet' that takes an integer\n",
    "function greet(times::Int)\n",
    "    println(\"I will greet you $(times) times!\")\n",
    "end\n",
    "\n",
    "# Yet another version that takes a String and an Int\n",
    "function greet(person::String, times::Int)\n",
    "    for i in 1:times\n",
    "        println(\"Hello, $(person)! This is time number $i.\")\n",
    "    end\n",
    "end\n",
    "\n",
    "# Calling the different versions of the function based on the argument types\n",
    "greet(\"Alice\")           # Calls the first version with a String\n",
    "greet(3)                 # Calls the second version with an Int\n",
    "greet(\"Bob\", 2)          # Calls the third version with a String and an Int\n"
   ]
  },
  {
   "cell_type": "markdown",
   "id": "824cd22a-379c-445a-9f67-049d38920ee7",
   "metadata": {},
   "source": [
    "# Broadcasting\n",
    "\n",
    "Broadcasting in Julia is a way to apply a function to each element of an array (or to each element of a collection of arrays, element-wise) without the need for explicitly writing a loop. This is done using the dot . operator before the function name or operator. Here's an example:"
   ]
  },
  {
   "cell_type": "code",
   "execution_count": null,
   "id": "c2393848-f197-43c4-9879-8ac13e6a4004",
   "metadata": {},
   "outputs": [
    {
     "name": "stdout",
     "output_type": "stream",
     "text": [
      "array squared: [1, 4, 9, 16]\n",
      "array incremented by 2: [3, 4, 5, 6]\n"
     ]
    }
   ],
   "source": [
    "# Define an array\n",
    "array = [1, 2, 3, 4]\n",
    "\n",
    "# We'll create a function that squares a number\n",
    "square(x) = x^2\n",
    "\n",
    "# Now we use broadcasting to apply the 'square' function to each element of the array\n",
    "squared_array = square.(array)\n",
    "\n",
    "println(\"array squared: \",squared_array)  # Output: [1, 4, 9, 16]\n",
    "\n",
    "# Broadcasting can also be used with operators. For example, to add 2 to each element:\n",
    "incremented_array = array .+ 2\n",
    "\n",
    "println(\"array incremented by 2: \",incremented_array)  # Output: [3, 4, 5, 6]\n"
   ]
  },
  {
   "cell_type": "code",
   "execution_count": null,
   "id": "40985525-e799-4ba9-abb9-1d7e257c60d6",
   "metadata": {},
   "outputs": [],
   "source": []
  },
  {
   "cell_type": "markdown",
   "id": "e2a88ca7-6360-4380-8fe7-0ad6d8e3079b",
   "metadata": {},
   "source": [
    "# Bang \n",
    "\n",
    "An exclaimation mark `!` at the end of a function is used to modify a variable in place. It is not enforced by the language but is a widely followed practice. \n",
    "\n",
    "::: {.callout-caution}\n",
    "`!` can also be used as a logical not or as part of pattern matching. \n",
    ":::\n"
   ]
  },
  {
   "cell_type": "code",
   "execution_count": null,
   "id": "ab25ad89-548c-4fc5-b75a-06f5bd7d96ef",
   "metadata": {},
   "outputs": [
    {
     "data": {
      "text/plain": [
       "4-element Vector{Int64}:\n",
       " 2\n",
       " 3\n",
       " 4\n",
       " 5"
      ]
     },
     "execution_count": null,
     "metadata": {},
     "output_type": "execute_result"
    }
   ],
   "source": [
    "my_array = [1,2,3,4]\n",
    "\n",
    "function add_one!(array)\n",
    "    for i in eachindex(array)\n",
    "        array[i] += 1\n",
    "    end\n",
    "end\n",
    "\n",
    "add_one!(my_array)\n",
    "my_array"
   ]
  },
  {
   "cell_type": "markdown",
   "id": "2aeb0400-9447-4fb6-a9d9-d5ecfc7a0f06",
   "metadata": {},
   "source": [
    "# Don't be afraid of loops\n",
    "\n",
    "Unlike Python, loops are actually fast in Julia. There's no need to vectorise code with numpy arrays and numpy functions and loops may be the best way to do things. Even better, you can use `Distributed` to make your loops run in parallel with the macro `@distributed` without needing to change anything else in your code. \n"
   ]
  },
  {
   "cell_type": "code",
   "execution_count": null,
   "id": "950765fe-601e-45f6-812c-c955fdb8aef2",
   "metadata": {},
   "outputs": [
    {
     "name": "stdout",
     "output_type": "stream",
     "text": [
      "s t r i n g s   a r e   i m m u t a b l e "
     ]
    }
   ],
   "source": [
    "for c in \"strings are immutable\"\n",
    "    print(c,\" \")\n",
    "end"
   ]
  },
  {
   "cell_type": "code",
   "execution_count": null,
   "id": "f44b22a3-6d12-41f5-acca-decbbcaca707",
   "metadata": {},
   "outputs": [
    {
     "name": "stdout",
     "output_type": "stream",
     "text": [
      "1\n",
      "3\n",
      "6\n",
      "10\n",
      "15\n"
     ]
    }
   ],
   "source": [
    "for i in 1:5\n",
    "    println( sum(1:i) )\n",
    "end"
   ]
  },
  {
   "cell_type": "markdown",
   "id": "742cf2d3-f926-410c-8138-2731861c9537",
   "metadata": {},
   "source": [
    "# Useful Macros\n",
    "\n",
    "Macros allow for metaprogramming and you can write code that write code for you. They are useful for optimisation, debugging, and testing. \n",
    "\n",
    "\n",
    "You can view the code representation after type interence `@code_typed`, the byte code where loops are converted to gotos `@code_lowered`, LLVM machine code `@code_llvm`, and even native assembly code `@code_native` which Julia directly executes. "
   ]
  },
  {
   "cell_type": "code",
   "execution_count": null,
   "id": "8560cda1-4d35-4264-abb1-c49e889a97c2",
   "metadata": {},
   "outputs": [
    {
     "data": {
      "text/plain": [
       "CodeInfo(\n",
       "\u001b[90m1 ─\u001b[39m       Core.NewvarNode(:(@_3))\n",
       "\u001b[90m│  \u001b[39m       Core.NewvarNode(:(b))\n",
       "\u001b[90m│  \u001b[39m       Core.NewvarNode(:(a))\n",
       "\u001b[90m│  \u001b[39m %4  = N ≤ 1\n",
       "\u001b[90m└──\u001b[39m       goto #3 if not %4\n",
       "\u001b[90m2 ─\u001b[39m       return 1\n",
       "\u001b[90m3 ─\u001b[39m       a = 0\n",
       "\u001b[90m│  \u001b[39m       b = 1\n",
       "\u001b[90m│  \u001b[39m %9  = 2:N\n",
       "\u001b[90m│  \u001b[39m       @_3 = Base.iterate(%9)\n",
       "\u001b[90m│  \u001b[39m %11 = @_3 === nothing\n",
       "\u001b[90m│  \u001b[39m %12 = Base.not_int(%11)\n",
       "\u001b[90m└──\u001b[39m       goto #6 if not %12\n",
       "\u001b[90m4 ┄\u001b[39m %14 = @_3\n",
       "\u001b[90m│  \u001b[39m       i = Core.getfield(%14, 1)\n",
       "\u001b[90m│  \u001b[39m %16 = Core.getfield(%14, 2)\n",
       "\u001b[90m│  \u001b[39m       temp = a + b\n",
       "\u001b[90m│  \u001b[39m       a = b\n",
       "\u001b[90m│  \u001b[39m       b = temp\n",
       "\u001b[90m│  \u001b[39m       @_3 = Base.iterate(%9, %16)\n",
       "\u001b[90m│  \u001b[39m %21 = @_3 === nothing\n",
       "\u001b[90m│  \u001b[39m %22 = Base.not_int(%21)\n",
       "\u001b[90m└──\u001b[39m       goto #6 if not %22\n",
       "\u001b[90m5 ─\u001b[39m       goto #4\n",
       "\u001b[90m6 ┄\u001b[39m       return b\n",
       ")"
      ]
     },
     "execution_count": null,
     "metadata": {},
     "output_type": "execute_result"
    }
   ],
   "source": [
    "function fibonacci(N::Int64)\n",
    "    if N ≤ 1\n",
    "        return 1\n",
    "    end\n",
    "    a = 0; b = 1\n",
    "    for i in 2:N\n",
    "        temp = a+b\n",
    "        a = b\n",
    "        b = temp\n",
    "    end\n",
    "    return b\n",
    "end\n",
    "\n",
    "@code_lowered fibonacci(2)"
   ]
  },
  {
   "cell_type": "markdown",
   "id": "616539c7-c515-4796-8ff7-85782e775d54",
   "metadata": {},
   "source": [
    "Another useful macro is \\@time / \\@timed which are used for simple benchmarking. They measure the time taken to execute an expression and the amount of memory it allocates.\n",
    "\n",
    "You can also use \\@btime / \\@benchmark which is provided by the BenchmarkTools.jl package to give more accurate and detailed performance measurements than @time."
   ]
  },
  {
   "cell_type": "code",
   "execution_count": null,
   "id": "f578b6a6-8b0a-45e0-9fe4-2dc028eae495",
   "metadata": {},
   "outputs": [
    {
     "name": "stdout",
     "output_type": "stream",
     "text": [
      "  0.000157 seconds\n"
     ]
    },
    {
     "data": {
      "text/plain": [
       "2754320626097736315"
      ]
     },
     "execution_count": null,
     "metadata": {},
     "output_type": "execute_result"
    }
   ],
   "source": [
    "@time fibonacci(100_000)"
   ]
  },
  {
   "cell_type": "markdown",
   "id": "c22119dc-d4d2-40dc-abf6-be51f8ab8448",
   "metadata": {},
   "source": [
    "## More macros\n",
    "\n",
    "Here are some more of the commonly used macros in Julia\n",
    "\n",
    "1. \\@macroexpand: This macro shows the result of the macro expansion, which is useful for understanding what the macro does to your code.\n",
    "\n",
    "2. \\@assert: This is used for assertions in your code. It throws an AssertionError if the condition is not met.\n",
    "\n",
    "3. \\@test: Part of Julia's standard library Test, this macro is used for writing test cases.\n",
    "\n",
    "4. \\@inline / \\@noinline: These control whether the compiler should inline a particular function, which can sometimes improve or worsen performance.\n",
    "\n",
    "5. \\@eval: Used to evaluate an expression in the global scope, which can be useful in metaprogramming for generating code programmatically.\n",
    "\n",
    "6. \\@everywhere: In a distributed computing environment, this macro is used to define a function or variable in every process of a Julia session.\n",
    "\n",
    "7. \\@unpack / \\@pack: Provided by the Parameters.jl package, these macros are used for unpacking and packing variables into structures, which is particularly useful when dealing with many parameters or settings."
   ]
  },
  {
   "cell_type": "markdown",
   "id": "eefcd28b-a044-46cc-b364-8df2b0c8bc5a",
   "metadata": {},
   "source": []
  },
  {
   "cell_type": "code",
   "execution_count": null,
   "id": "0aa88582-967f-4b88-91db-9e7f8fb891f1",
   "metadata": {},
   "outputs": [],
   "source": [
    "using Distributed\n",
    "\n",
    "# Add worker processes for parallel computation\n",
    "addprocs(4)  # Assuming you want to add 4 worker processes\n",
    "\n",
    "# A simple function to do some work, e.g., a costly computation\n",
    "@everywhere function do_work(x)\n",
    "    sleep(0.1)  # Simulating some work by sleeping for 0.1 seconds\n",
    "    return x^2\n",
    "end"
   ]
  },
  {
   "cell_type": "code",
   "execution_count": null,
   "id": "b8393d26-1571-4556-8a00-dbfde9996c43",
   "metadata": {},
   "outputs": [
    {
     "name": "stdout",
     "output_type": "stream",
     "text": [
      "338350\n"
     ]
    }
   ],
   "source": [
    "# Use @distributed to parallelize the loop\n",
    "results = @distributed (+) for i in 1:100\n",
    "    do_work(i)\n",
    "end\n",
    "\n",
    "# 'results' will contain the sum of the squares of numbers from 1 to 100\n",
    "println(results)"
   ]
  },
  {
   "cell_type": "markdown",
   "id": "cc55ba6a-1b18-4164-b812-50f14ff2999b",
   "metadata": {},
   "source": [
    "In the above example, the @distributed macro is used with a reduction operation (+) that specifies how the results from each iteration should be combined—in this case, they are summed. The loop runs in parallel across the available worker processes, and each process runs a portion of the loop iterations. By using @everywhere, the do_work function is defined across all processes. \n"
   ]
  },
  {
   "cell_type": "markdown",
   "id": "217a5e0b-abc2-431a-86b4-e12097e124f6",
   "metadata": {},
   "source": [
    "# Plotting\n",
    "\n",
    "Plots.jl is a powerful plotting package in Julia that provides a simple and flexible interface for creating a wide variety of plots. Here is a quick example. For good measure, I also include an example of how to save the figure. "
   ]
  },
  {
   "cell_type": "code",
   "execution_count": null,
   "id": "b768f808-59da-4214-90a6-e12168a34a7a",
   "metadata": {},
   "outputs": [
    {
     "data": {
      "image/png": "[encoded data removed]",
      "image/svg+xml": [
       "<?xml version=\"1.0\" encoding=\"utf-8\"?>\n",
       "<svg xmlns=\"http://www.w3.org/2000/svg\" xmlns:xlink=\"http://www.w3.org/1999/xlink\" width=\"600\" height=\"400\" viewBox=\"0 0 2400 1600\">\n",
       "<defs>\n",
       "  <clipPath id=\"clip550\">\n",
       "    <rect x=\"0\" y=\"0\" width=\"2400\" height=\"1600\"/>\n",
       "  </clipPath>\n",
       "</defs>\n",
       "<path clip-path=\"url(#clip550)\" d=\"M0 1600 L2400 1600 L2400 0 L0 0  Z\" fill=\"#ffffff\" fill-rule=\"evenodd\" fill-opacity=\"1\"/>\n",
       "<defs>\n",
       "  <clipPath id=\"clip551\">\n",
       "    <rect x=\"480\" y=\"0\" width=\"1681\" height=\"1600\"/>\n",
       "  </clipPath>\n",
       "</defs>\n",
       "<path clip-path=\"url(#clip550)\" d=\"M156.598 1486.45 L2352.76 1486.45 L2352.76 47.2441 L156.598 47.2441  Z\" fill=\"#ffffff\" fill-rule=\"evenodd\" fill-opacity=\"1\"/>\n",
       "<defs>\n",
       "  <clipPath id=\"clip552\">\n",
       "    <rect x=\"156\" y=\"47\" width=\"2197\" height=\"1440\"/>\n",
       "  </clipPath>\n",
       "</defs>\n",
       "<polyline clip-path=\"url(#clip552)\" style=\"stroke:#000000; stroke-linecap:round; stroke-linejoin:round; stroke-width:2; stroke-opacity:0.1; fill:none\" points=\"448.959,1486.45 448.959,47.2441 \"/>\n",
       "<polyline clip-path=\"url(#clip552)\" style=\"stroke:#000000; stroke-linecap:round; stroke-linejoin:round; stroke-width:2; stroke-opacity:0.1; fill:none\" points=\"909.369,1486.45 909.369,47.2441 \"/>\n",
       "<polyline clip-path=\"url(#clip552)\" style=\"stroke:#000000; stroke-linecap:round; stroke-linejoin:round; stroke-width:2; stroke-opacity:0.1; fill:none\" points=\"1369.78,1486.45 1369.78,47.2441 \"/>\n",
       "<polyline clip-path=\"url(#clip552)\" style=\"stroke:#000000; stroke-linecap:round; stroke-linejoin:round; stroke-width:2; stroke-opacity:0.1; fill:none\" points=\"1830.19,1486.45 1830.19,47.2441 \"/>\n",
       "<polyline clip-path=\"url(#clip552)\" style=\"stroke:#000000; stroke-linecap:round; stroke-linejoin:round; stroke-width:2; stroke-opacity:0.1; fill:none\" points=\"2290.6,1486.45 2290.6,47.2441 \"/>\n",
       "<polyline clip-path=\"url(#clip550)\" style=\"stroke:#000000; stroke-linecap:round; stroke-linejoin:round; stroke-width:4; stroke-opacity:1; fill:none\" points=\"156.598,1486.45 2352.76,1486.45 \"/>\n",
       "<polyline clip-path=\"url(#clip550)\" style=\"stroke:#000000; stroke-linecap:round; stroke-linejoin:round; stroke-width:4; stroke-opacity:1; fill:none\" points=\"448.959,1486.45 448.959,1467.55 \"/>\n",
       "<polyline clip-path=\"url(#clip550)\" style=\"stroke:#000000; stroke-linecap:round; stroke-linejoin:round; stroke-width:4; stroke-opacity:1; fill:none\" points=\"909.369,1486.45 909.369,1467.55 \"/>\n",
       "<polyline clip-path=\"url(#clip550)\" style=\"stroke:#000000; stroke-linecap:round; stroke-linejoin:round; stroke-width:4; stroke-opacity:1; fill:none\" points=\"1369.78,1486.45 1369.78,1467.55 \"/>\n",
       "<polyline clip-path=\"url(#clip550)\" style=\"stroke:#000000; stroke-linecap:round; stroke-linejoin:round; stroke-width:4; stroke-opacity:1; fill:none\" points=\"1830.19,1486.45 1830.19,1467.55 \"/>\n",
       "<polyline clip-path=\"url(#clip550)\" style=\"stroke:#000000; stroke-linecap:round; stroke-linejoin:round; stroke-width:4; stroke-opacity:1; fill:none\" points=\"2290.6,1486.45 2290.6,1467.55 \"/>\n",
       "<path clip-path=\"url(#clip550)\" d=\"M443.612 1544.91 L459.931 1544.91 L459.931 1548.85 L437.987 1548.85 L437.987 1544.91 Q440.649 1542.16 445.232 1537.53 Q449.838 1532.88 451.019 1531.53 Q453.264 1529.01 454.144 1527.27 Q455.047 1525.51 455.047 1523.82 Q455.047 1521.07 453.102 1519.33 Q451.181 1517.6 448.079 1517.6 Q445.88 1517.6 443.426 1518.36 Q440.996 1519.13 438.218 1520.68 L438.218 1515.95 Q441.042 1514.82 443.496 1514.24 Q445.95 1513.66 447.987 1513.66 Q453.357 1513.66 456.551 1516.35 Q459.746 1519.03 459.746 1523.52 Q459.746 1525.65 458.936 1527.57 Q458.149 1529.47 456.042 1532.07 Q455.463 1532.74 452.362 1535.95 Q449.26 1539.15 443.612 1544.91 Z\" fill=\"#000000\" fill-rule=\"nonzero\" fill-opacity=\"1\" /><path clip-path=\"url(#clip550)\" d=\"M912.379 1518.36 L900.573 1536.81 L912.379 1536.81 L912.379 1518.36 M911.152 1514.29 L917.031 1514.29 L917.031 1536.81 L921.962 1536.81 L921.962 1540.7 L917.031 1540.7 L917.031 1548.85 L912.379 1548.85 L912.379 1540.7 L896.777 1540.7 L896.777 1536.19 L911.152 1514.29 Z\" fill=\"#000000\" fill-rule=\"nonzero\" fill-opacity=\"1\" /><path clip-path=\"url(#clip550)\" d=\"M1370.18 1529.7 Q1367.04 1529.7 1365.18 1531.86 Q1363.36 1534.01 1363.36 1537.76 Q1363.36 1541.49 1365.18 1543.66 Q1367.04 1545.82 1370.18 1545.82 Q1373.33 1545.82 1375.16 1543.66 Q1377.01 1541.49 1377.01 1537.76 Q1377.01 1534.01 1375.16 1531.86 Q1373.33 1529.7 1370.18 1529.7 M1379.47 1515.05 L1379.47 1519.31 Q1377.71 1518.48 1375.9 1518.04 Q1374.12 1517.6 1372.36 1517.6 Q1367.73 1517.6 1365.28 1520.72 Q1362.85 1523.85 1362.5 1530.17 Q1363.87 1528.15 1365.93 1527.09 Q1367.99 1526 1370.46 1526 Q1375.67 1526 1378.68 1529.17 Q1381.71 1532.32 1381.71 1537.76 Q1381.71 1543.08 1378.56 1546.3 Q1375.42 1549.52 1370.18 1549.52 Q1364.19 1549.52 1361.02 1544.94 Q1357.85 1540.33 1357.85 1531.6 Q1357.85 1523.41 1361.74 1518.55 Q1365.62 1513.66 1372.18 1513.66 Q1373.93 1513.66 1375.72 1514.01 Q1377.52 1514.36 1379.47 1515.05 Z\" fill=\"#000000\" fill-rule=\"nonzero\" fill-opacity=\"1\" /><path clip-path=\"url(#clip550)\" d=\"M1830.19 1532.44 Q1826.86 1532.44 1824.94 1534.22 Q1823.04 1536 1823.04 1539.13 Q1823.04 1542.25 1824.94 1544.03 Q1826.86 1545.82 1830.19 1545.82 Q1833.52 1545.82 1835.44 1544.03 Q1837.37 1542.23 1837.37 1539.13 Q1837.37 1536 1835.44 1534.22 Q1833.55 1532.44 1830.19 1532.44 M1825.51 1530.45 Q1822.5 1529.7 1820.82 1527.64 Q1819.15 1525.58 1819.15 1522.62 Q1819.15 1518.48 1822.09 1516.07 Q1825.05 1513.66 1830.19 1513.66 Q1835.35 1513.66 1838.29 1516.07 Q1841.23 1518.48 1841.23 1522.62 Q1841.23 1525.58 1839.54 1527.64 Q1837.88 1529.7 1834.89 1530.45 Q1838.27 1531.23 1840.14 1533.52 Q1842.04 1535.82 1842.04 1539.13 Q1842.04 1544.15 1838.96 1546.83 Q1835.91 1549.52 1830.19 1549.52 Q1824.47 1549.52 1821.39 1546.83 Q1818.34 1544.15 1818.34 1539.13 Q1818.34 1535.82 1820.24 1533.52 Q1822.13 1531.23 1825.51 1530.45 M1823.8 1523.06 Q1823.8 1525.75 1825.47 1527.25 Q1827.16 1528.76 1830.19 1528.76 Q1833.2 1528.76 1834.89 1527.25 Q1836.6 1525.75 1836.6 1523.06 Q1836.6 1520.38 1834.89 1518.87 Q1833.2 1517.37 1830.19 1517.37 Q1827.16 1517.37 1825.47 1518.87 Q1823.8 1520.38 1823.8 1523.06 Z\" fill=\"#000000\" fill-rule=\"nonzero\" fill-opacity=\"1\" /><path clip-path=\"url(#clip550)\" d=\"M2265.29 1544.91 L2272.93 1544.91 L2272.93 1518.55 L2264.62 1520.21 L2264.62 1515.95 L2272.88 1514.29 L2277.56 1514.29 L2277.56 1544.91 L2285.2 1544.91 L2285.2 1548.85 L2265.29 1548.85 L2265.29 1544.91 Z\" fill=\"#000000\" fill-rule=\"nonzero\" fill-opacity=\"1\" /><path clip-path=\"url(#clip550)\" d=\"M2304.64 1517.37 Q2301.03 1517.37 2299.2 1520.93 Q2297.39 1524.47 2297.39 1531.6 Q2297.39 1538.71 2299.2 1542.27 Q2301.03 1545.82 2304.64 1545.82 Q2308.27 1545.82 2310.08 1542.27 Q2311.91 1538.71 2311.91 1531.6 Q2311.91 1524.47 2310.08 1520.93 Q2308.27 1517.37 2304.64 1517.37 M2304.64 1513.66 Q2310.45 1513.66 2313.51 1518.27 Q2316.58 1522.85 2316.58 1531.6 Q2316.58 1540.33 2313.51 1544.94 Q2310.45 1549.52 2304.64 1549.52 Q2298.83 1549.52 2295.75 1544.94 Q2292.7 1540.33 2292.7 1531.6 Q2292.7 1522.85 2295.75 1518.27 Q2298.83 1513.66 2304.64 1513.66 Z\" fill=\"#000000\" fill-rule=\"nonzero\" fill-opacity=\"1\" /><polyline clip-path=\"url(#clip552)\" style=\"stroke:#000000; stroke-linecap:round; stroke-linejoin:round; stroke-width:2; stroke-opacity:0.1; fill:none\" points=\"156.598,1200.7 2352.76,1200.7 \"/>\n",
       "<polyline clip-path=\"url(#clip552)\" style=\"stroke:#000000; stroke-linecap:round; stroke-linejoin:round; stroke-width:2; stroke-opacity:0.1; fill:none\" points=\"156.598,893.27 2352.76,893.27 \"/>\n",
       "<polyline clip-path=\"url(#clip552)\" style=\"stroke:#000000; stroke-linecap:round; stroke-linejoin:round; stroke-width:2; stroke-opacity:0.1; fill:none\" points=\"156.598,585.841 2352.76,585.841 \"/>\n",
       "<polyline clip-path=\"url(#clip552)\" style=\"stroke:#000000; stroke-linecap:round; stroke-linejoin:round; stroke-width:2; stroke-opacity:0.1; fill:none\" points=\"156.598,278.412 2352.76,278.412 \"/>\n",
       "<polyline clip-path=\"url(#clip550)\" style=\"stroke:#000000; stroke-linecap:round; stroke-linejoin:round; stroke-width:4; stroke-opacity:1; fill:none\" points=\"156.598,1486.45 156.598,47.2441 \"/>\n",
       "<polyline clip-path=\"url(#clip550)\" style=\"stroke:#000000; stroke-linecap:round; stroke-linejoin:round; stroke-width:4; stroke-opacity:1; fill:none\" points=\"156.598,1200.7 175.496,1200.7 \"/>\n",
       "<polyline clip-path=\"url(#clip550)\" style=\"stroke:#000000; stroke-linecap:round; stroke-linejoin:round; stroke-width:4; stroke-opacity:1; fill:none\" points=\"156.598,893.27 175.496,893.27 \"/>\n",
       "<polyline clip-path=\"url(#clip550)\" style=\"stroke:#000000; stroke-linecap:round; stroke-linejoin:round; stroke-width:4; stroke-opacity:1; fill:none\" points=\"156.598,585.841 175.496,585.841 \"/>\n",
       "<polyline clip-path=\"url(#clip550)\" style=\"stroke:#000000; stroke-linecap:round; stroke-linejoin:round; stroke-width:4; stroke-opacity:1; fill:none\" points=\"156.598,278.412 175.496,278.412 \"/>\n",
       "<path clip-path=\"url(#clip550)\" d=\"M65.0198 1186.5 Q61.4087 1186.5 59.58 1190.06 Q57.7745 1193.6 57.7745 1200.73 Q57.7745 1207.84 59.58 1211.4 Q61.4087 1214.95 65.0198 1214.95 Q68.6541 1214.95 70.4596 1211.4 Q72.2883 1207.84 72.2883 1200.73 Q72.2883 1193.6 70.4596 1190.06 Q68.6541 1186.5 65.0198 1186.5 M65.0198 1182.79 Q70.83 1182.79 73.8855 1187.4 Q76.9642 1191.98 76.9642 1200.73 Q76.9642 1209.46 73.8855 1214.07 Q70.83 1218.65 65.0198 1218.65 Q59.2097 1218.65 56.131 1214.07 Q53.0754 1209.46 53.0754 1200.73 Q53.0754 1191.98 56.131 1187.4 Q59.2097 1182.79 65.0198 1182.79 Z\" fill=\"#000000\" fill-rule=\"nonzero\" fill-opacity=\"1\" /><path clip-path=\"url(#clip550)\" d=\"M85.1818 1212.1 L90.066 1212.1 L90.066 1217.98 L85.1818 1217.98 L85.1818 1212.1 Z\" fill=\"#000000\" fill-rule=\"nonzero\" fill-opacity=\"1\" /><path clip-path=\"url(#clip550)\" d=\"M104.279 1214.04 L120.598 1214.04 L120.598 1217.98 L98.6539 1217.98 L98.6539 1214.04 Q101.316 1211.29 105.899 1206.66 Q110.506 1202.01 111.686 1200.66 Q113.932 1198.14 114.811 1196.41 Q115.714 1194.65 115.714 1192.96 Q115.714 1190.2 113.77 1188.47 Q111.848 1186.73 108.746 1186.73 Q106.547 1186.73 104.094 1187.49 Q101.663 1188.26 98.8854 1189.81 L98.8854 1185.09 Q101.709 1183.95 104.163 1183.37 Q106.617 1182.79 108.654 1182.79 Q114.024 1182.79 117.219 1185.48 Q120.413 1188.16 120.413 1192.66 Q120.413 1194.78 119.603 1196.71 Q118.816 1198.6 116.709 1201.2 Q116.131 1201.87 113.029 1205.09 Q109.927 1208.28 104.279 1214.04 Z\" fill=\"#000000\" fill-rule=\"nonzero\" fill-opacity=\"1\" /><path clip-path=\"url(#clip550)\" d=\"M62.9365 879.069 Q59.3254 879.069 57.4967 882.633 Q55.6912 886.175 55.6912 893.305 Q55.6912 900.411 57.4967 903.976 Q59.3254 907.518 62.9365 907.518 Q66.5707 907.518 68.3763 903.976 Q70.205 900.411 70.205 893.305 Q70.205 886.175 68.3763 882.633 Q66.5707 879.069 62.9365 879.069 M62.9365 875.365 Q68.7467 875.365 71.8022 879.971 Q74.8809 884.555 74.8809 893.305 Q74.8809 902.031 71.8022 906.638 Q68.7467 911.221 62.9365 911.221 Q57.1264 911.221 54.0477 906.638 Q50.9921 902.031 50.9921 893.305 Q50.9921 884.555 54.0477 879.971 Q57.1264 875.365 62.9365 875.365 Z\" fill=\"#000000\" fill-rule=\"nonzero\" fill-opacity=\"1\" /><path clip-path=\"url(#clip550)\" d=\"M83.0984 904.67 L87.9827 904.67 L87.9827 910.55 L83.0984 910.55 L83.0984 904.67 Z\" fill=\"#000000\" fill-rule=\"nonzero\" fill-opacity=\"1\" /><path clip-path=\"url(#clip550)\" d=\"M111.015 880.064 L99.2095 898.513 L111.015 898.513 L111.015 880.064 M109.788 875.99 L115.668 875.99 L115.668 898.513 L120.598 898.513 L120.598 902.402 L115.668 902.402 L115.668 910.55 L111.015 910.55 L111.015 902.402 L95.4132 902.402 L95.4132 897.888 L109.788 875.99 Z\" fill=\"#000000\" fill-rule=\"nonzero\" fill-opacity=\"1\" /><path clip-path=\"url(#clip550)\" d=\"M63.2606 571.64 Q59.6495 571.64 57.8208 575.204 Q56.0152 578.746 56.0152 585.876 Q56.0152 592.982 57.8208 596.547 Q59.6495 600.089 63.2606 600.089 Q66.8948 600.089 68.7004 596.547 Q70.5291 592.982 70.5291 585.876 Q70.5291 578.746 68.7004 575.204 Q66.8948 571.64 63.2606 571.64 M63.2606 567.936 Q69.0707 567.936 72.1263 572.542 Q75.205 577.126 75.205 585.876 Q75.205 594.602 72.1263 599.209 Q69.0707 603.792 63.2606 603.792 Q57.4504 603.792 54.3717 599.209 Q51.3162 594.602 51.3162 585.876 Q51.3162 577.126 54.3717 572.542 Q57.4504 567.936 63.2606 567.936 Z\" fill=\"#000000\" fill-rule=\"nonzero\" fill-opacity=\"1\" /><path clip-path=\"url(#clip550)\" d=\"M83.4225 597.241 L88.3067 597.241 L88.3067 603.121 L83.4225 603.121 L83.4225 597.241 Z\" fill=\"#000000\" fill-rule=\"nonzero\" fill-opacity=\"1\" /><path clip-path=\"url(#clip550)\" d=\"M109.071 583.978 Q105.922 583.978 104.071 586.13 Q102.242 588.283 102.242 592.033 Q102.242 595.76 104.071 597.936 Q105.922 600.089 109.071 600.089 Q112.219 600.089 114.047 597.936 Q115.899 595.76 115.899 592.033 Q115.899 588.283 114.047 586.13 Q112.219 583.978 109.071 583.978 M118.353 569.325 L118.353 573.584 Q116.594 572.751 114.788 572.311 Q113.006 571.871 111.246 571.871 Q106.617 571.871 104.163 574.996 Q101.733 578.121 101.385 584.44 Q102.751 582.427 104.811 581.362 Q106.871 580.274 109.348 580.274 Q114.557 580.274 117.566 583.445 Q120.598 586.593 120.598 592.033 Q120.598 597.357 117.45 600.575 Q114.302 603.792 109.071 603.792 Q103.075 603.792 99.9039 599.209 Q96.7326 594.602 96.7326 585.876 Q96.7326 577.681 100.621 572.82 Q104.51 567.936 111.061 567.936 Q112.82 567.936 114.603 568.283 Q116.408 568.63 118.353 569.325 Z\" fill=\"#000000\" fill-rule=\"nonzero\" fill-opacity=\"1\" /><path clip-path=\"url(#clip550)\" d=\"M63.5152 264.211 Q59.9041 264.211 58.0754 267.775 Q56.2699 271.317 56.2699 278.447 Q56.2699 285.553 58.0754 289.118 Q59.9041 292.66 63.5152 292.66 Q67.1494 292.66 68.955 289.118 Q70.7837 285.553 70.7837 278.447 Q70.7837 271.317 68.955 267.775 Q67.1494 264.211 63.5152 264.211 M63.5152 260.507 Q69.3254 260.507 72.3809 265.113 Q75.4596 269.697 75.4596 278.447 Q75.4596 287.173 72.3809 291.78 Q69.3254 296.363 63.5152 296.363 Q57.7051 296.363 54.6264 291.78 Q51.5708 287.173 51.5708 278.447 Q51.5708 269.697 54.6264 265.113 Q57.7051 260.507 63.5152 260.507 Z\" fill=\"#000000\" fill-rule=\"nonzero\" fill-opacity=\"1\" /><path clip-path=\"url(#clip550)\" d=\"M83.6771 289.812 L88.5614 289.812 L88.5614 295.692 L83.6771 295.692 L83.6771 289.812 Z\" fill=\"#000000\" fill-rule=\"nonzero\" fill-opacity=\"1\" /><path clip-path=\"url(#clip550)\" d=\"M108.746 279.28 Q105.413 279.28 103.492 281.062 Q101.594 282.845 101.594 285.97 Q101.594 289.095 103.492 290.877 Q105.413 292.66 108.746 292.66 Q112.08 292.66 114.001 290.877 Q115.922 289.072 115.922 285.97 Q115.922 282.845 114.001 281.062 Q112.103 279.28 108.746 279.28 M104.071 277.289 Q101.061 276.548 99.3715 274.488 Q97.7048 272.428 97.7048 269.465 Q97.7048 265.322 100.645 262.914 Q103.608 260.507 108.746 260.507 Q113.908 260.507 116.848 262.914 Q119.788 265.322 119.788 269.465 Q119.788 272.428 118.098 274.488 Q116.432 276.548 113.445 277.289 Q116.825 278.076 118.7 280.368 Q120.598 282.66 120.598 285.97 Q120.598 290.993 117.52 293.678 Q114.464 296.363 108.746 296.363 Q103.029 296.363 99.9502 293.678 Q96.8947 290.993 96.8947 285.97 Q96.8947 282.66 98.7928 280.368 Q100.691 278.076 104.071 277.289 M102.358 269.905 Q102.358 272.59 104.024 274.095 Q105.714 275.599 108.746 275.599 Q111.756 275.599 113.445 274.095 Q115.158 272.59 115.158 269.905 Q115.158 267.22 113.445 265.715 Q111.756 264.211 108.746 264.211 Q105.714 264.211 104.024 265.715 Q102.358 267.22 102.358 269.905 Z\" fill=\"#000000\" fill-rule=\"nonzero\" fill-opacity=\"1\" /><polyline clip-path=\"url(#clip552)\" style=\"stroke:#009af9; stroke-linecap:round; stroke-linejoin:round; stroke-width:4; stroke-opacity:1; fill:none\" points=\"218.754,303.904 448.959,1445.72 679.164,286.581 909.369,1290.92 1139.57,832.87 1369.78,281.678 1599.98,632.037 1830.19,901.003 2060.4,87.9763 2290.6,1067.03 \"/>\n",
       "<path clip-path=\"url(#clip550)\" d=\"M2007.5 1438.47 L2279.55 1438.47 L2279.55 1334.79 L2007.5 1334.79  Z\" fill=\"#ffffff\" fill-rule=\"evenodd\" fill-opacity=\"1\"/>\n",
       "<polyline clip-path=\"url(#clip550)\" style=\"stroke:#000000; stroke-linecap:round; stroke-linejoin:round; stroke-width:4; stroke-opacity:1; fill:none\" points=\"2007.5,1438.47 2279.55,1438.47 2279.55,1334.79 2007.5,1334.79 2007.5,1438.47 \"/>\n",
       "<polyline clip-path=\"url(#clip550)\" style=\"stroke:#009af9; stroke-linecap:round; stroke-linejoin:round; stroke-width:4; stroke-opacity:1; fill:none\" points=\"2031.91,1386.63 2178.32,1386.63 \"/>\n",
       "<path clip-path=\"url(#clip550)\" d=\"M2216.56 1406.32 Q2214.76 1410.95 2213.04 1412.36 Q2211.33 1413.78 2208.46 1413.78 L2205.06 1413.78 L2205.06 1410.21 L2207.56 1410.21 Q2209.32 1410.21 2210.29 1409.38 Q2211.26 1408.54 2212.44 1405.44 L2213.2 1403.5 L2202.72 1377.99 L2207.23 1377.99 L2215.33 1398.27 L2223.44 1377.99 L2227.95 1377.99 L2216.56 1406.32 Z\" fill=\"#000000\" fill-rule=\"nonzero\" fill-opacity=\"1\" /><path clip-path=\"url(#clip550)\" d=\"M2235.24 1399.98 L2242.88 1399.98 L2242.88 1373.61 L2234.57 1375.28 L2234.57 1371.02 L2242.83 1369.35 L2247.51 1369.35 L2247.51 1399.98 L2255.15 1399.98 L2255.15 1403.91 L2235.24 1403.91 L2235.24 1399.98 Z\" fill=\"#000000\" fill-rule=\"nonzero\" fill-opacity=\"1\" /></svg>\n"
      ],
      "text/html": [
       "<?xml version=\"1.0\" encoding=\"utf-8\"?>\n",
       "<svg xmlns=\"http://www.w3.org/2000/svg\" xmlns:xlink=\"http://www.w3.org/1999/xlink\" width=\"600\" height=\"400\" viewBox=\"0 0 2400 1600\">\n",
       "<defs>\n",
       "  <clipPath id=\"clip600\">\n",
       "    <rect x=\"0\" y=\"0\" width=\"2400\" height=\"1600\"/>\n",
       "  </clipPath>\n",
       "</defs>\n",
       "<path clip-path=\"url(#clip600)\" d=\"M0 1600 L2400 1600 L2400 0 L0 0  Z\" fill=\"#ffffff\" fill-rule=\"evenodd\" fill-opacity=\"1\"/>\n",
       "<defs>\n",
       "  <clipPath id=\"clip601\">\n",
       "    <rect x=\"480\" y=\"0\" width=\"1681\" height=\"1600\"/>\n",
       "  </clipPath>\n",
       "</defs>\n",
       "<path clip-path=\"url(#clip600)\" d=\"M156.598 1486.45 L2352.76 1486.45 L2352.76 47.2441 L156.598 47.2441  Z\" fill=\"#ffffff\" fill-rule=\"evenodd\" fill-opacity=\"1\"/>\n",
       "<defs>\n",
       "  <clipPath id=\"clip602\">\n",
       "    <rect x=\"156\" y=\"47\" width=\"2197\" height=\"1440\"/>\n",
       "  </clipPath>\n",
       "</defs>\n",
       "<polyline clip-path=\"url(#clip602)\" style=\"stroke:#000000; stroke-linecap:round; stroke-linejoin:round; stroke-width:2; stroke-opacity:0.1; fill:none\" points=\"448.959,1486.45 448.959,47.2441 \"/>\n",
       "<polyline clip-path=\"url(#clip602)\" style=\"stroke:#000000; stroke-linecap:round; stroke-linejoin:round; stroke-width:2; stroke-opacity:0.1; fill:none\" points=\"909.369,1486.45 909.369,47.2441 \"/>\n",
       "<polyline clip-path=\"url(#clip602)\" style=\"stroke:#000000; stroke-linecap:round; stroke-linejoin:round; stroke-width:2; stroke-opacity:0.1; fill:none\" points=\"1369.78,1486.45 1369.78,47.2441 \"/>\n",
       "<polyline clip-path=\"url(#clip602)\" style=\"stroke:#000000; stroke-linecap:round; stroke-linejoin:round; stroke-width:2; stroke-opacity:0.1; fill:none\" points=\"1830.19,1486.45 1830.19,47.2441 \"/>\n",
       "<polyline clip-path=\"url(#clip602)\" style=\"stroke:#000000; stroke-linecap:round; stroke-linejoin:round; stroke-width:2; stroke-opacity:0.1; fill:none\" points=\"2290.6,1486.45 2290.6,47.2441 \"/>\n",
       "<polyline clip-path=\"url(#clip600)\" style=\"stroke:#000000; stroke-linecap:round; stroke-linejoin:round; stroke-width:4; stroke-opacity:1; fill:none\" points=\"156.598,1486.45 2352.76,1486.45 \"/>\n",
       "<polyline clip-path=\"url(#clip600)\" style=\"stroke:#000000; stroke-linecap:round; stroke-linejoin:round; stroke-width:4; stroke-opacity:1; fill:none\" points=\"448.959,1486.45 448.959,1467.55 \"/>\n",
       "<polyline clip-path=\"url(#clip600)\" style=\"stroke:#000000; stroke-linecap:round; stroke-linejoin:round; stroke-width:4; stroke-opacity:1; fill:none\" points=\"909.369,1486.45 909.369,1467.55 \"/>\n",
       "<polyline clip-path=\"url(#clip600)\" style=\"stroke:#000000; stroke-linecap:round; stroke-linejoin:round; stroke-width:4; stroke-opacity:1; fill:none\" points=\"1369.78,1486.45 1369.78,1467.55 \"/>\n",
       "<polyline clip-path=\"url(#clip600)\" style=\"stroke:#000000; stroke-linecap:round; stroke-linejoin:round; stroke-width:4; stroke-opacity:1; fill:none\" points=\"1830.19,1486.45 1830.19,1467.55 \"/>\n",
       "<polyline clip-path=\"url(#clip600)\" style=\"stroke:#000000; stroke-linecap:round; stroke-linejoin:round; stroke-width:4; stroke-opacity:1; fill:none\" points=\"2290.6,1486.45 2290.6,1467.55 \"/>\n",
       "<path clip-path=\"url(#clip600)\" d=\"M443.612 1544.91 L459.931 1544.91 L459.931 1548.85 L437.987 1548.85 L437.987 1544.91 Q440.649 1542.16 445.232 1537.53 Q449.838 1532.88 451.019 1531.53 Q453.264 1529.01 454.144 1527.27 Q455.047 1525.51 455.047 1523.82 Q455.047 1521.07 453.102 1519.33 Q451.181 1517.6 448.079 1517.6 Q445.88 1517.6 443.426 1518.36 Q440.996 1519.13 438.218 1520.68 L438.218 1515.95 Q441.042 1514.82 443.496 1514.24 Q445.95 1513.66 447.987 1513.66 Q453.357 1513.66 456.551 1516.35 Q459.746 1519.03 459.746 1523.52 Q459.746 1525.65 458.936 1527.57 Q458.149 1529.47 456.042 1532.07 Q455.463 1532.74 452.362 1535.95 Q449.26 1539.15 443.612 1544.91 Z\" fill=\"#000000\" fill-rule=\"nonzero\" fill-opacity=\"1\" /><path clip-path=\"url(#clip600)\" d=\"M912.379 1518.36 L900.573 1536.81 L912.379 1536.81 L912.379 1518.36 M911.152 1514.29 L917.031 1514.29 L917.031 1536.81 L921.962 1536.81 L921.962 1540.7 L917.031 1540.7 L917.031 1548.85 L912.379 1548.85 L912.379 1540.7 L896.777 1540.7 L896.777 1536.19 L911.152 1514.29 Z\" fill=\"#000000\" fill-rule=\"nonzero\" fill-opacity=\"1\" /><path clip-path=\"url(#clip600)\" d=\"M1370.18 1529.7 Q1367.04 1529.7 1365.18 1531.86 Q1363.36 1534.01 1363.36 1537.76 Q1363.36 1541.49 1365.18 1543.66 Q1367.04 1545.82 1370.18 1545.82 Q1373.33 1545.82 1375.16 1543.66 Q1377.01 1541.49 1377.01 1537.76 Q1377.01 1534.01 1375.16 1531.86 Q1373.33 1529.7 1370.18 1529.7 M1379.47 1515.05 L1379.47 1519.31 Q1377.71 1518.48 1375.9 1518.04 Q1374.12 1517.6 1372.36 1517.6 Q1367.73 1517.6 1365.28 1520.72 Q1362.85 1523.85 1362.5 1530.17 Q1363.87 1528.15 1365.93 1527.09 Q1367.99 1526 1370.46 1526 Q1375.67 1526 1378.68 1529.17 Q1381.71 1532.32 1381.71 1537.76 Q1381.71 1543.08 1378.56 1546.3 Q1375.42 1549.52 1370.18 1549.52 Q1364.19 1549.52 1361.02 1544.94 Q1357.85 1540.33 1357.85 1531.6 Q1357.85 1523.41 1361.74 1518.55 Q1365.62 1513.66 1372.18 1513.66 Q1373.93 1513.66 1375.72 1514.01 Q1377.52 1514.36 1379.47 1515.05 Z\" fill=\"#000000\" fill-rule=\"nonzero\" fill-opacity=\"1\" /><path clip-path=\"url(#clip600)\" d=\"M1830.19 1532.44 Q1826.86 1532.44 1824.94 1534.22 Q1823.04 1536 1823.04 1539.13 Q1823.04 1542.25 1824.94 1544.03 Q1826.86 1545.82 1830.19 1545.82 Q1833.52 1545.82 1835.44 1544.03 Q1837.37 1542.23 1837.37 1539.13 Q1837.37 1536 1835.44 1534.22 Q1833.55 1532.44 1830.19 1532.44 M1825.51 1530.45 Q1822.5 1529.7 1820.82 1527.64 Q1819.15 1525.58 1819.15 1522.62 Q1819.15 1518.48 1822.09 1516.07 Q1825.05 1513.66 1830.19 1513.66 Q1835.35 1513.66 1838.29 1516.07 Q1841.23 1518.48 1841.23 1522.62 Q1841.23 1525.58 1839.54 1527.64 Q1837.88 1529.7 1834.89 1530.45 Q1838.27 1531.23 1840.14 1533.52 Q1842.04 1535.82 1842.04 1539.13 Q1842.04 1544.15 1838.96 1546.83 Q1835.91 1549.52 1830.19 1549.52 Q1824.47 1549.52 1821.39 1546.83 Q1818.34 1544.15 1818.34 1539.13 Q1818.34 1535.82 1820.24 1533.52 Q1822.13 1531.23 1825.51 1530.45 M1823.8 1523.06 Q1823.8 1525.75 1825.47 1527.25 Q1827.16 1528.76 1830.19 1528.76 Q1833.2 1528.76 1834.89 1527.25 Q1836.6 1525.75 1836.6 1523.06 Q1836.6 1520.38 1834.89 1518.87 Q1833.2 1517.37 1830.19 1517.37 Q1827.16 1517.37 1825.47 1518.87 Q1823.8 1520.38 1823.8 1523.06 Z\" fill=\"#000000\" fill-rule=\"nonzero\" fill-opacity=\"1\" /><path clip-path=\"url(#clip600)\" d=\"M2265.29 1544.91 L2272.93 1544.91 L2272.93 1518.55 L2264.62 1520.21 L2264.62 1515.95 L2272.88 1514.29 L2277.56 1514.29 L2277.56 1544.91 L2285.2 1544.91 L2285.2 1548.85 L2265.29 1548.85 L2265.29 1544.91 Z\" fill=\"#000000\" fill-rule=\"nonzero\" fill-opacity=\"1\" /><path clip-path=\"url(#clip600)\" d=\"M2304.64 1517.37 Q2301.03 1517.37 2299.2 1520.93 Q2297.39 1524.47 2297.39 1531.6 Q2297.39 1538.71 2299.2 1542.27 Q2301.03 1545.82 2304.64 1545.82 Q2308.27 1545.82 2310.08 1542.27 Q2311.91 1538.71 2311.91 1531.6 Q2311.91 1524.47 2310.08 1520.93 Q2308.27 1517.37 2304.64 1517.37 M2304.64 1513.66 Q2310.45 1513.66 2313.51 1518.27 Q2316.58 1522.85 2316.58 1531.6 Q2316.58 1540.33 2313.51 1544.94 Q2310.45 1549.52 2304.64 1549.52 Q2298.83 1549.52 2295.75 1544.94 Q2292.7 1540.33 2292.7 1531.6 Q2292.7 1522.85 2295.75 1518.27 Q2298.83 1513.66 2304.64 1513.66 Z\" fill=\"#000000\" fill-rule=\"nonzero\" fill-opacity=\"1\" /><polyline clip-path=\"url(#clip602)\" style=\"stroke:#000000; stroke-linecap:round; stroke-linejoin:round; stroke-width:2; stroke-opacity:0.1; fill:none\" points=\"156.598,1200.7 2352.76,1200.7 \"/>\n",
       "<polyline clip-path=\"url(#clip602)\" style=\"stroke:#000000; stroke-linecap:round; stroke-linejoin:round; stroke-width:2; stroke-opacity:0.1; fill:none\" points=\"156.598,893.27 2352.76,893.27 \"/>\n",
       "<polyline clip-path=\"url(#clip602)\" style=\"stroke:#000000; stroke-linecap:round; stroke-linejoin:round; stroke-width:2; stroke-opacity:0.1; fill:none\" points=\"156.598,585.841 2352.76,585.841 \"/>\n",
       "<polyline clip-path=\"url(#clip602)\" style=\"stroke:#000000; stroke-linecap:round; stroke-linejoin:round; stroke-width:2; stroke-opacity:0.1; fill:none\" points=\"156.598,278.412 2352.76,278.412 \"/>\n",
       "<polyline clip-path=\"url(#clip600)\" style=\"stroke:#000000; stroke-linecap:round; stroke-linejoin:round; stroke-width:4; stroke-opacity:1; fill:none\" points=\"156.598,1486.45 156.598,47.2441 \"/>\n",
       "<polyline clip-path=\"url(#clip600)\" style=\"stroke:#000000; stroke-linecap:round; stroke-linejoin:round; stroke-width:4; stroke-opacity:1; fill:none\" points=\"156.598,1200.7 175.496,1200.7 \"/>\n",
       "<polyline clip-path=\"url(#clip600)\" style=\"stroke:#000000; stroke-linecap:round; stroke-linejoin:round; stroke-width:4; stroke-opacity:1; fill:none\" points=\"156.598,893.27 175.496,893.27 \"/>\n",
       "<polyline clip-path=\"url(#clip600)\" style=\"stroke:#000000; stroke-linecap:round; stroke-linejoin:round; stroke-width:4; stroke-opacity:1; fill:none\" points=\"156.598,585.841 175.496,585.841 \"/>\n",
       "<polyline clip-path=\"url(#clip600)\" style=\"stroke:#000000; stroke-linecap:round; stroke-linejoin:round; stroke-width:4; stroke-opacity:1; fill:none\" points=\"156.598,278.412 175.496,278.412 \"/>\n",
       "<path clip-path=\"url(#clip600)\" d=\"M65.0198 1186.5 Q61.4087 1186.5 59.58 1190.06 Q57.7745 1193.6 57.7745 1200.73 Q57.7745 1207.84 59.58 1211.4 Q61.4087 1214.95 65.0198 1214.95 Q68.6541 1214.95 70.4596 1211.4 Q72.2883 1207.84 72.2883 1200.73 Q72.2883 1193.6 70.4596 1190.06 Q68.6541 1186.5 65.0198 1186.5 M65.0198 1182.79 Q70.83 1182.79 73.8855 1187.4 Q76.9642 1191.98 76.9642 1200.73 Q76.9642 1209.46 73.8855 1214.07 Q70.83 1218.65 65.0198 1218.65 Q59.2097 1218.65 56.131 1214.07 Q53.0754 1209.46 53.0754 1200.73 Q53.0754 1191.98 56.131 1187.4 Q59.2097 1182.79 65.0198 1182.79 Z\" fill=\"#000000\" fill-rule=\"nonzero\" fill-opacity=\"1\" /><path clip-path=\"url(#clip600)\" d=\"M85.1818 1212.1 L90.066 1212.1 L90.066 1217.98 L85.1818 1217.98 L85.1818 1212.1 Z\" fill=\"#000000\" fill-rule=\"nonzero\" fill-opacity=\"1\" /><path clip-path=\"url(#clip600)\" d=\"M104.279 1214.04 L120.598 1214.04 L120.598 1217.98 L98.6539 1217.98 L98.6539 1214.04 Q101.316 1211.29 105.899 1206.66 Q110.506 1202.01 111.686 1200.66 Q113.932 1198.14 114.811 1196.41 Q115.714 1194.65 115.714 1192.96 Q115.714 1190.2 113.77 1188.47 Q111.848 1186.73 108.746 1186.73 Q106.547 1186.73 104.094 1187.49 Q101.663 1188.26 98.8854 1189.81 L98.8854 1185.09 Q101.709 1183.95 104.163 1183.37 Q106.617 1182.79 108.654 1182.79 Q114.024 1182.79 117.219 1185.48 Q120.413 1188.16 120.413 1192.66 Q120.413 1194.78 119.603 1196.71 Q118.816 1198.6 116.709 1201.2 Q116.131 1201.87 113.029 1205.09 Q109.927 1208.28 104.279 1214.04 Z\" fill=\"#000000\" fill-rule=\"nonzero\" fill-opacity=\"1\" /><path clip-path=\"url(#clip600)\" d=\"M62.9365 879.069 Q59.3254 879.069 57.4967 882.633 Q55.6912 886.175 55.6912 893.305 Q55.6912 900.411 57.4967 903.976 Q59.3254 907.518 62.9365 907.518 Q66.5707 907.518 68.3763 903.976 Q70.205 900.411 70.205 893.305 Q70.205 886.175 68.3763 882.633 Q66.5707 879.069 62.9365 879.069 M62.9365 875.365 Q68.7467 875.365 71.8022 879.971 Q74.8809 884.555 74.8809 893.305 Q74.8809 902.031 71.8022 906.638 Q68.7467 911.221 62.9365 911.221 Q57.1264 911.221 54.0477 906.638 Q50.9921 902.031 50.9921 893.305 Q50.9921 884.555 54.0477 879.971 Q57.1264 875.365 62.9365 875.365 Z\" fill=\"#000000\" fill-rule=\"nonzero\" fill-opacity=\"1\" /><path clip-path=\"url(#clip600)\" d=\"M83.0984 904.67 L87.9827 904.67 L87.9827 910.55 L83.0984 910.55 L83.0984 904.67 Z\" fill=\"#000000\" fill-rule=\"nonzero\" fill-opacity=\"1\" /><path clip-path=\"url(#clip600)\" d=\"M111.015 880.064 L99.2095 898.513 L111.015 898.513 L111.015 880.064 M109.788 875.99 L115.668 875.99 L115.668 898.513 L120.598 898.513 L120.598 902.402 L115.668 902.402 L115.668 910.55 L111.015 910.55 L111.015 902.402 L95.4132 902.402 L95.4132 897.888 L109.788 875.99 Z\" fill=\"#000000\" fill-rule=\"nonzero\" fill-opacity=\"1\" /><path clip-path=\"url(#clip600)\" d=\"M63.2606 571.64 Q59.6495 571.64 57.8208 575.204 Q56.0152 578.746 56.0152 585.876 Q56.0152 592.982 57.8208 596.547 Q59.6495 600.089 63.2606 600.089 Q66.8948 600.089 68.7004 596.547 Q70.5291 592.982 70.5291 585.876 Q70.5291 578.746 68.7004 575.204 Q66.8948 571.64 63.2606 571.64 M63.2606 567.936 Q69.0707 567.936 72.1263 572.542 Q75.205 577.126 75.205 585.876 Q75.205 594.602 72.1263 599.209 Q69.0707 603.792 63.2606 603.792 Q57.4504 603.792 54.3717 599.209 Q51.3162 594.602 51.3162 585.876 Q51.3162 577.126 54.3717 572.542 Q57.4504 567.936 63.2606 567.936 Z\" fill=\"#000000\" fill-rule=\"nonzero\" fill-opacity=\"1\" /><path clip-path=\"url(#clip600)\" d=\"M83.4225 597.241 L88.3067 597.241 L88.3067 603.121 L83.4225 603.121 L83.4225 597.241 Z\" fill=\"#000000\" fill-rule=\"nonzero\" fill-opacity=\"1\" /><path clip-path=\"url(#clip600)\" d=\"M109.071 583.978 Q105.922 583.978 104.071 586.13 Q102.242 588.283 102.242 592.033 Q102.242 595.76 104.071 597.936 Q105.922 600.089 109.071 600.089 Q112.219 600.089 114.047 597.936 Q115.899 595.76 115.899 592.033 Q115.899 588.283 114.047 586.13 Q112.219 583.978 109.071 583.978 M118.353 569.325 L118.353 573.584 Q116.594 572.751 114.788 572.311 Q113.006 571.871 111.246 571.871 Q106.617 571.871 104.163 574.996 Q101.733 578.121 101.385 584.44 Q102.751 582.427 104.811 581.362 Q106.871 580.274 109.348 580.274 Q114.557 580.274 117.566 583.445 Q120.598 586.593 120.598 592.033 Q120.598 597.357 117.45 600.575 Q114.302 603.792 109.071 603.792 Q103.075 603.792 99.9039 599.209 Q96.7326 594.602 96.7326 585.876 Q96.7326 577.681 100.621 572.82 Q104.51 567.936 111.061 567.936 Q112.82 567.936 114.603 568.283 Q116.408 568.63 118.353 569.325 Z\" fill=\"#000000\" fill-rule=\"nonzero\" fill-opacity=\"1\" /><path clip-path=\"url(#clip600)\" d=\"M63.5152 264.211 Q59.9041 264.211 58.0754 267.775 Q56.2699 271.317 56.2699 278.447 Q56.2699 285.553 58.0754 289.118 Q59.9041 292.66 63.5152 292.66 Q67.1494 292.66 68.955 289.118 Q70.7837 285.553 70.7837 278.447 Q70.7837 271.317 68.955 267.775 Q67.1494 264.211 63.5152 264.211 M63.5152 260.507 Q69.3254 260.507 72.3809 265.113 Q75.4596 269.697 75.4596 278.447 Q75.4596 287.173 72.3809 291.78 Q69.3254 296.363 63.5152 296.363 Q57.7051 296.363 54.6264 291.78 Q51.5708 287.173 51.5708 278.447 Q51.5708 269.697 54.6264 265.113 Q57.7051 260.507 63.5152 260.507 Z\" fill=\"#000000\" fill-rule=\"nonzero\" fill-opacity=\"1\" /><path clip-path=\"url(#clip600)\" d=\"M83.6771 289.812 L88.5614 289.812 L88.5614 295.692 L83.6771 295.692 L83.6771 289.812 Z\" fill=\"#000000\" fill-rule=\"nonzero\" fill-opacity=\"1\" /><path clip-path=\"url(#clip600)\" d=\"M108.746 279.28 Q105.413 279.28 103.492 281.062 Q101.594 282.845 101.594 285.97 Q101.594 289.095 103.492 290.877 Q105.413 292.66 108.746 292.66 Q112.08 292.66 114.001 290.877 Q115.922 289.072 115.922 285.97 Q115.922 282.845 114.001 281.062 Q112.103 279.28 108.746 279.28 M104.071 277.289 Q101.061 276.548 99.3715 274.488 Q97.7048 272.428 97.7048 269.465 Q97.7048 265.322 100.645 262.914 Q103.608 260.507 108.746 260.507 Q113.908 260.507 116.848 262.914 Q119.788 265.322 119.788 269.465 Q119.788 272.428 118.098 274.488 Q116.432 276.548 113.445 277.289 Q116.825 278.076 118.7 280.368 Q120.598 282.66 120.598 285.97 Q120.598 290.993 117.52 293.678 Q114.464 296.363 108.746 296.363 Q103.029 296.363 99.9502 293.678 Q96.8947 290.993 96.8947 285.97 Q96.8947 282.66 98.7928 280.368 Q100.691 278.076 104.071 277.289 M102.358 269.905 Q102.358 272.59 104.024 274.095 Q105.714 275.599 108.746 275.599 Q111.756 275.599 113.445 274.095 Q115.158 272.59 115.158 269.905 Q115.158 267.22 113.445 265.715 Q111.756 264.211 108.746 264.211 Q105.714 264.211 104.024 265.715 Q102.358 267.22 102.358 269.905 Z\" fill=\"#000000\" fill-rule=\"nonzero\" fill-opacity=\"1\" /><polyline clip-path=\"url(#clip602)\" style=\"stroke:#009af9; stroke-linecap:round; stroke-linejoin:round; stroke-width:4; stroke-opacity:1; fill:none\" points=\"218.754,303.904 448.959,1445.72 679.164,286.581 909.369,1290.92 1139.57,832.87 1369.78,281.678 1599.98,632.037 1830.19,901.003 2060.4,87.9763 2290.6,1067.03 \"/>\n",
       "<path clip-path=\"url(#clip600)\" d=\"M2007.5 1438.47 L2279.55 1438.47 L2279.55 1334.79 L2007.5 1334.79  Z\" fill=\"#ffffff\" fill-rule=\"evenodd\" fill-opacity=\"1\"/>\n",
       "<polyline clip-path=\"url(#clip600)\" style=\"stroke:#000000; stroke-linecap:round; stroke-linejoin:round; stroke-width:4; stroke-opacity:1; fill:none\" points=\"2007.5,1438.47 2279.55,1438.47 2279.55,1334.79 2007.5,1334.79 2007.5,1438.47 \"/>\n",
       "<polyline clip-path=\"url(#clip600)\" style=\"stroke:#009af9; stroke-linecap:round; stroke-linejoin:round; stroke-width:4; stroke-opacity:1; fill:none\" points=\"2031.91,1386.63 2178.32,1386.63 \"/>\n",
       "<path clip-path=\"url(#clip600)\" d=\"M2216.56 1406.32 Q2214.76 1410.95 2213.04 1412.36 Q2211.33 1413.78 2208.46 1413.78 L2205.06 1413.78 L2205.06 1410.21 L2207.56 1410.21 Q2209.32 1410.21 2210.29 1409.38 Q2211.26 1408.54 2212.44 1405.44 L2213.2 1403.5 L2202.72 1377.99 L2207.23 1377.99 L2215.33 1398.27 L2223.44 1377.99 L2227.95 1377.99 L2216.56 1406.32 Z\" fill=\"#000000\" fill-rule=\"nonzero\" fill-opacity=\"1\" /><path clip-path=\"url(#clip600)\" d=\"M2235.24 1399.98 L2242.88 1399.98 L2242.88 1373.61 L2234.57 1375.28 L2234.57 1371.02 L2242.83 1369.35 L2247.51 1369.35 L2247.51 1399.98 L2255.15 1399.98 L2255.15 1403.91 L2235.24 1403.91 L2235.24 1399.98 Z\" fill=\"#000000\" fill-rule=\"nonzero\" fill-opacity=\"1\" /></svg>\n"
      ]
     },
     "metadata": {},
     "output_type": "display_data"
    }
   ],
   "source": [
    "using Plots\n",
    "\n",
    "# Create some data\n",
    "x = 1:10\n",
    "y = rand(10)  # 10 random numbers\n",
    "\n",
    "# Make a line plot using matplotlib backend\n",
    "plot(x, y, \n",
    "    title=\"Random Line Plot\", label=\"Line\", \n",
    "    xlabel=\"X Axis\", ylabel=\"Y Axis\")\n",
    "\n",
    "# Save the plot to a file\n",
    "savefig(\"temp.pdf\")\n",
    "\n",
    "# Display the plot\n",
    "display(plot(x, y))\n"
   ]
  },
  {
   "cell_type": "code",
   "execution_count": null,
   "id": "b9fa39e6-e07d-4161-9f68-332091127eb3",
   "metadata": {},
   "outputs": [],
   "source": [
    "rm(\"temp.pdf\") # remove the temp file"
   ]
  },
  {
   "cell_type": "markdown",
   "id": "f0576094-de7a-4183-9ed4-c0267b7a937b",
   "metadata": {},
   "source": [
    "# Interoperability\n",
    "\n",
    "You can use `PyCall` to use Python libraries in your code. It should install Conda.jl properly...\n"
   ]
  },
  {
   "cell_type": "code",
   "execution_count": null,
   "id": "55f96f8c-ebdb-4ba4-ae0b-8efd14f72af8",
   "metadata": {},
   "outputs": [],
   "source": [
    "#| output: false\n",
    "Pkg.add(\"PyCall\")\n",
    "Pkg.build(\"PyCall\")"
   ]
  },
  {
   "cell_type": "code",
   "execution_count": null,
   "id": "afce699d-ea24-41f0-9083-f73e10f150f2",
   "metadata": {},
   "outputs": [],
   "source": [
    "using PyCall\n",
    "\n",
    "# Import the Python 'math' module\n",
    "math = pyimport(\"math\")\n",
    "\n",
    "# Use the Python 'sin' function from the 'math' module\n",
    "result = math.sin(math.pi / 4)  # Should be √2/2\n",
    "\n",
    "println(\"The sine of π/4 is: $result\")"
   ]
  },
  {
   "cell_type": "code",
   "execution_count": null,
   "id": "3551ed2c-e1c5-43c3-95dc-c54f8298f24e",
   "metadata": {},
   "outputs": [],
   "source": []
  }
 ],
 "metadata": {
  "kernelspec": {
   "display_name": "Julia 1.9.3",
   "language": "julia",
   "name": "julia-1.9"
  }
 },
 "nbformat": 4,
 "nbformat_minor": 5
}
