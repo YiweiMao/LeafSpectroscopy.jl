{
 "cells": [
  {
   "cell_type": "markdown",
   "id": "8a73650a-ac81-4047-a229-5759ec82b267",
   "metadata": {},
   "source": [
    "---\n",
    "title: \"Walz PAM System Programmer\"\n",
    "author: \"Yiwei Mao\"\n",
    "date: \"11/29/2023\"\n",
    "format:\n",
    "  html:\n",
    "    code-tools: true\n",
    "    code-fold: false\n",
    "jupyter: python-1.8.3\n",
    "---\n"
   ]
  },
  {
   "cell_type": "markdown",
   "id": "eabae92f-4162-49cb-9fce-2aa519fd239d",
   "metadata": {},
   "source": [
    "# Walz\n",
    "\n",
    "\n",
    "\n",
    "A copy of the operating manual can be found here:\n",
    "<https://www.walz.com/files/downloads/manuals/gfs-3000/GFS-3000_Manual_9.pdf>\n",
    "\n",
    "Each program is a text file with a key value"
   ]
  },
  {
   "cell_type": "code",
   "execution_count": null,
   "id": "8fcabe69-ecc2-4479-9d1d-af8bf6d9717f",
   "metadata": {},
   "outputs": [],
   "source": [
    "import csv\n",
    "import numpy as np\n",
    "import pandas as pd"
   ]
  },
  {
   "cell_type": "code",
   "execution_count": null,
   "id": "90aaf6ad-9bff-4eb2-a0b7-fc1c0e56e0ab",
   "metadata": {},
   "outputs": [],
   "source": [
    "prestuff = [['\"Remark =\"','\"----Settings Timing----\"'],\n",
    "            ['\"Storing Interval =\"','\"005/060\"'],\n",
    "            ['\"1Yield/y*MP =\"','\"1\"'],\n",
    "            ['\"Remark =\"','\"----Settings Central Unit----\"'],\n",
    "            ['\"Set CO2 =\"','\"380\"'],\n",
    "            ['\"Set H2O(ppm) =\"','\"20000\"'],\n",
    "            ['\"Set Flow =\"','\"750\"'],\n",
    "            ['\"Mode =\"','\"MP\"'],\n",
    "            ['\"Remark =\"','\"----Settings Meas. Head----\"'],\n",
    "            ['\"Set PARtop =\"','\"0\"'],\n",
    "            ['\"Impeller =\"','\"5\"'],\n",
    "            ['\"Set Tcuv =\"','\"25.0\"'],\n",
    "            ['\"Remark =\"','\"----Fluorescence----\"'],\n",
    "            ['\"Remark =\"','\"--- Fluorescence Module 3050-F ---\"'],\n",
    "            ['\"Fo\\'-Mode FL =\"','\"off\"'],\n",
    "            ['\"Gain FL =\"','\"low\"'],\n",
    "            ['\"M-Light FL =\"','\"on\"'],\n",
    "            ['\"SatWidth FL =\"','\"1.2\"'],\n",
    "            ['\"Sat-Int FL =\"','\"12\"'],\n",
    "            ['\"ML-Amp FL =\"','\"12\"'],\n",
    "            ['\"ETR-Fact FL =\"','\"0.84\"'],\n",
    "            ['\"Set Z-Offset FL\"','\"\"'],\n",
    "            ['\"ML-Frequency F =\"','\"low\"'],\n",
    "            ['\"Remark =\"','\"----Settings End----\"']]\n",
    "poststuff = [['\"Remark =\"','\"----System off but keep flow for leaf---\"'],\n",
    "            ['\"H2O Control off\"','\"\"'],\n",
    "            ['\"Set CO2 =\"','\"380\"'],\n",
    "            ['\"Set Flow =\"','\"750\"'],\n",
    "            ['\"Remark =\"','\"----Settings Meas. Head ----\"'],\n",
    "            ['\"TempControl off\"','\"\"'],\n",
    "            ['\"Set PARtop =\"','\"0\"'],\n",
    "            ['\"Impeller =\"','\"1\"'],\n",
    "            ['\"Remark =\"','\"----Settings End----\"']]"
   ]
  },
  {
   "cell_type": "code",
   "execution_count": null,
   "id": "ce087901-d0f0-40c9-9341-d0214558c5c2",
   "metadata": {},
   "outputs": [
    {
     "data": {
      "text/plain": [
       "            key             value\n",
       "0    \"Remark =\"      \"dark adapt\"\n",
       "1  \"Interval =\"              \"10\"\n",
       "2    \"Remark =\"  \"end of program\""
      ]
     },
     "execution_count": null,
     "metadata": {},
     "output_type": "execute_result"
    }
   ],
   "source": [
    "\n",
    "class Walz(object):\n",
    "    \n",
    "    def __init__(self):\n",
    "        \n",
    "        self.commands = [['\"Remark =\"','\"end of program\"']]\n",
    "        self.insert(mode=\"comment\",value=\"dark adapt\")\n",
    "        self.insert(mode=\"interval\",value=10)\n",
    "        \n",
    "    def insert(self,mode=\"comment\",value=\"\",row_num=-1):\n",
    "        \"\"\"mode can be 'comment', 'par', 'interval', 'tleaf', 'saturate', or any valid Walz command. \"\"\"\n",
    "        if   mode == \"comment\": # do not use ',' in your comment. that's the delimiter\n",
    "            self.commands.insert(row_num,['\"Remark =\"',f'\"{value}\"'])\n",
    "        elif mode == \"par\":\n",
    "            self.commands.insert(row_num,['\"Set PARtop =\"',f'\"{value}\"'])\n",
    "        elif mode == \"interval\":\n",
    "            self.commands.insert(row_num,['\"Interval =\"',f'\"{value}\"'])\n",
    "        elif mode == \"tleaf\": # e.g. 30.0\n",
    "            self.commands.insert(['\"Set Tleaf =\"',f'\"{value}\"'])\n",
    "        elif mode == \"saturate\":\n",
    "            self.commands.insert(row_num,['\"Fv/Fm\"',f'\"{value}\"']) # or \"Yield\"\n",
    "        else:\n",
    "            self.commands.insert(row_num,[f'\"{mode}\"',f'\"{value}\"'])\n",
    "            \n",
    "    def save(self,path,headerfooter=False):\n",
    "        \"\"\"path must have .prg extention\"\"\"\n",
    "        if headerfooter: \n",
    "            np.savetxt(path,prestuff+self.commands+poststuff,delimiter=\",\",fmt='%s',newline='\\r\\n')\n",
    "        else:\n",
    "            np.savetxt(path,self.commands,delimiter=\",\",fmt='%s',newline='\\r\\n')\n",
    "            \n",
    "    def load(self,path):\n",
    "        self.commands = np.loadtxt(path,dtype=str,delimiter=\",\")\n",
    "        \n",
    "    def __repr__(self):\n",
    "        return pd.DataFrame(self.commands,columns=[\"key\",\"value\"]).to_string()\n",
    "    \n",
    "\n",
    "program = Walz()\n",
    "program\n"
   ]
  },
  {
   "cell_type": "markdown",
   "id": "43cefabf-706a-46f5-bc5f-5a3e8ccaff55",
   "metadata": {},
   "source": [
    "### Example writing a Walz program"
   ]
  },
  {
   "cell_type": "code",
   "execution_count": null,
   "id": "75ee843e-0b27-4d74-9762-0098eaf4c68f",
   "metadata": {},
   "outputs": [],
   "source": [
    "program.insert(mode=\"Start storing\",value=\"\")\n",
    "program.insert(mode=\"Auto ZP =\",value=\"005/180\")\n",
    "\n",
    "program.insert(\"interval\",10)\n",
    "program.insert(\"saturate\")\n",
    "program.insert(\"interval\",10)\n",
    "program.insert(\"par\",2000)\n",
    "program.insert(\"interval\",10)\n",
    "program.insert(\"saturate\")\n",
    "program.insert(\"interval\",10)\n",
    "program.insert(\"par\",0)\n",
    "program.insert(\"interval\",10)\n",
    "\n",
    "program.insert(mode=\"Stop storing\",value=\"\")"
   ]
  },
  {
   "cell_type": "code",
   "execution_count": null,
   "id": "a3de8ac4-c024-4763-90fa-8d0d4b4fad97",
   "metadata": {},
   "outputs": [
    {
     "data": {
      "text/plain": [
       "                key             value\n",
       "0        \"Remark =\"      \"dark adapt\"\n",
       "1      \"Interval =\"              \"10\"\n",
       "2   \"Start storing\"                \"\"\n",
       "3       \"Auto ZP =\"         \"005/180\"\n",
       "4      \"Interval =\"              \"10\"\n",
       "5           \"Fv/Fm\"                \"\"\n",
       "6      \"Interval =\"              \"10\"\n",
       "7    \"Set PARtop =\"            \"2000\"\n",
       "8      \"Interval =\"              \"10\"\n",
       "9           \"Fv/Fm\"                \"\"\n",
       "10     \"Interval =\"              \"10\"\n",
       "11   \"Set PARtop =\"               \"0\"\n",
       "12     \"Interval =\"              \"10\"\n",
       "13   \"Stop storing\"                \"\"\n",
       "14       \"Remark =\"  \"end of program\""
      ]
     },
     "execution_count": null,
     "metadata": {},
     "output_type": "execute_result"
    }
   ],
   "source": [
    "program"
   ]
  },
  {
   "cell_type": "code",
   "execution_count": null,
   "id": "9d867833-e238-4845-94e7-c85939ece519",
   "metadata": {},
   "outputs": [],
   "source": []
  },
  {
   "cell_type": "code",
   "execution_count": null,
   "id": "01b1bbc0-833b-4c0e-944b-4e5f1c778699",
   "metadata": {},
   "outputs": [],
   "source": []
  },
  {
   "cell_type": "code",
   "execution_count": null,
   "id": "1693e3ef-7876-46c4-9f28-315ccbe37afb",
   "metadata": {},
   "outputs": [],
   "source": [
    "program.save(\"../data/walz_test.prg\",headerfooter=True)"
   ]
  },
  {
   "cell_type": "code",
   "execution_count": null,
   "id": "b6e6ab89-b23a-4e66-b562-28e754423823",
   "metadata": {},
   "outputs": [
    {
     "data": {
      "text/plain": [
       "array([['\"Remark =\"', '\"----Settings Timing----\"'],\n",
       "       ['\"Storing Interval =\"', '\"005/060\"'],\n",
       "       ['\"1Yield/y*MP =\"', '\"1\"'],\n",
       "       ['\"Remark =\"', '\"----Settings Central Unit----\"'],\n",
       "       ['\"Set CO2 =\"', '\"380\"'],\n",
       "       ['\"Set H2O(ppm) =\"', '\"20000\"'],\n",
       "       ['\"Set Flow =\"', '\"750\"'],\n",
       "       ['\"Mode =\"', '\"MP\"'],\n",
       "       ['\"Remark =\"', '\"----Settings Meas. Head----\"'],\n",
       "       ['\"Set PARtop =\"', '\"0\"'],\n",
       "       ['\"Impeller =\"', '\"5\"'],\n",
       "       ['\"Set Tcuv =\"', '\"25.0\"'],\n",
       "       ['\"Remark =\"', '\"----Fluorescence----\"'],\n",
       "       ['\"Remark =\"', '\"--- Fluorescence Module 3050-F ---\"'],\n",
       "       ['\"Fo\\'-Mode FL =\"', '\"off\"'],\n",
       "       ['\"Gain FL =\"', '\"low\"'],\n",
       "       ['\"M-Light FL =\"', '\"on\"'],\n",
       "       ['\"SatWidth FL =\"', '\"1.2\"'],\n",
       "       ['\"Sat-Int FL =\"', '\"12\"'],\n",
       "       ['\"ML-Amp FL =\"', '\"12\"'],\n",
       "       ['\"ETR-Fact FL =\"', '\"0.84\"'],\n",
       "       ['\"Set Z-Offset FL\"', '\"\"'],\n",
       "       ['\"ML-Frequency F =\"', '\"low\"'],\n",
       "       ['\"Remark =\"', '\"----Settings End----\"'],\n",
       "       ['\"Remark =\"', '\"dark adapt\"'],\n",
       "       ['\"Interval =\"', '\"10\"'],\n",
       "       ['\"Start storing\"', '\"\"'],\n",
       "       ['\"Auto ZP =\"', '\"005/180\"'],\n",
       "       ['\"Interval =\"', '\"10\"'],\n",
       "       ['\"Fv/Fm\"', '\"\"'],\n",
       "       ['\"Interval =\"', '\"10\"'],\n",
       "       ['\"Set PARtop =\"', '\"2000\"'],\n",
       "       ['\"Interval =\"', '\"10\"'],\n",
       "       ['\"Fv/Fm\"', '\"\"'],\n",
       "       ['\"Interval =\"', '\"10\"'],\n",
       "       ['\"Set PARtop =\"', '\"0\"'],\n",
       "       ['\"Interval =\"', '\"10\"'],\n",
       "       ['\"Stop storing\"', '\"\"'],\n",
       "       ['\"Remark =\"', '\"end of program\"'],\n",
       "       ['\"Remark =\"', '\"----System off but keep flow for leaf---\"'],\n",
       "       ['\"H2O Control off\"', '\"\"'],\n",
       "       ['\"Set CO2 =\"', '\"380\"'],\n",
       "       ['\"Set Flow =\"', '\"750\"'],\n",
       "       ['\"Remark =\"', '\"----Settings Meas. Head ----\"'],\n",
       "       ['\"TempControl off\"', '\"\"'],\n",
       "       ['\"Set PARtop =\"', '\"0\"'],\n",
       "       ['\"Impeller =\"', '\"1\"'],\n",
       "       ['\"Remark =\"', '\"----Settings End----\"']], dtype='<U42')"
      ]
     },
     "execution_count": null,
     "metadata": {},
     "output_type": "execute_result"
    }
   ],
   "source": [
    "program.load(\"../data/walz_test.prg\")\n",
    "program.commands"
   ]
  },
  {
   "cell_type": "markdown",
   "id": "41eef44f-75e1-46f3-9b64-e63d00c8519b",
   "metadata": {},
   "source": [
    "## Cannot read the Walz data files?"
   ]
  },
  {
   "cell_type": "code",
   "execution_count": null,
   "id": "92dfa18d-6a3b-461c-a5e5-3c7dd613485e",
   "metadata": {},
   "outputs": [
    {
     "name": "stdout",
     "output_type": "stream",
     "text": [
      "Date;Time;Code;Object;Area;Status;Comment;CO2abs;dCO2ZP;dCO2MP;H2Oabs;dH2OZP;dH2OMP;Flow;Pamb;Aux1;Aux2;Tcuv;Tleaf;Tamb;Ttop;PARtop;PARbot;PARamb;Imp;rh;E;VPD;GH2O;A;ci;ca;wa;Fo;Fm;Fv/Fm;F;Fm';Fo';Fo'calc;Yield;ETR;qP;qL;qN;NPQ;Y(NPQ);ETR-Fac\n",
      "yyyy-mm-dd;hh:mm:ss;string;No;cm2;string;;ppm;ppm;ppm;ppm;ppm;ppm;�mol/s;kPa;mV;mV;�C;�C;�C;�C;�mol m-2 s-1;�mol m-2 s-1;�mol m-2 s-1;steps;%;mmol m-2 s-1;Pa/kPa;mmol m-2 s-1;�mol m-2 s-1;ppm;ppm;ppm;mV;mV;;mV;mV;mV;mV;;;;;;;;\n",
      "2023-11-30;02:03:38;ZPi005;0000;2;AFF2FF112FF---2FF-------------;;376.4445;-6.418268;;10796.93;-461.9133;;749.74;98.488;2610;423;25.07;25.21;24.78;25.09;0.0;0.2;0.0;5;;;;;;;370.03;10335.0;;;;-1;;;;;;;;;;;\n",
      "2023-11-30;02:06:53;MP_005;0001;2;AFF2FF112FF---2FF-------------;;377.3369;-6.418268;-6.574264;11305.95;-461.9133;-499.1138;749.59;98.490;2626;438;25.02;25.18;24.58;25.05;0.2;0.6;0.2;5;34.99;-0.141015;21.70421;-6.497128;0.6378542;515.2257;377.18;11268.8;0;4;1.0000;0;;;;;;;;;;;\n",
      "2023-11-30;02:07:25;MP_005;0001;2;AFF2FF112FF---2FF-------------;;376.998;-6.418268;-6.655115;11340.57;-461.9133;-494.4123;749.71;98.488;2626;440;25.01;25.19;24.70;25.03;0.6;0.2;0.1;5;35.14;-0.1232169;21.69279;-5.680087;0.9342519;616.5405;376.76;11308.1;0;4;1.0000;0;;;;;;;;;;;\n",
      "2023-11-30;02:08:55;MP_005;0001;2;AFF2FF112FF---2FF-------------;;379.651;-6.418268;-9.772825;11522.47;-461.9133;-482.8048;748.10;98.492;2635;447;25.02;25.19;24.67;25.02;0.4;0.6;0.1;5;35.72;-7.905445E-02;21.4997;-3.677002;12.57755;5612.008;376.30;11501.6;0;4;1.0000;0;;;;;;;;;;;\n",
      "2023-11-30;02:09:27;MP_005;0001;2;AFF2FF112FF---2FF-------------;;377.4967;-6.418268;-6.714802;11442.59;-461.9133;-465.5997;749.68;98.494;2638;449;25.02;25.22;24.54;25.02;0.9;0.2;0.3;5;35.53;-1.397803E-02;21.61211;-0.6467684;1.116794;3013.735;377.20;11438.9;2;4;0.5000;2;;;;;;;;;;;\n"
     ]
    }
   ],
   "source": [
    "!cat ../data/null.csv"
   ]
  },
  {
   "cell_type": "code",
   "execution_count": null,
   "id": "5480cefc-bb99-4c9e-a626-d0a831af1a60",
   "metadata": {},
   "outputs": [
    {
     "ename": "UnicodeDecodeError",
     "evalue": "'utf-8' codec can't decode byte 0xb5 in position 310: invalid start byte",
     "output_type": "error",
     "traceback": [
      "\u001b[0;31m---------------------------------------------------------------------------\u001b[0m",
      "\u001b[0;31mUnicodeDecodeError\u001b[0m                        Traceback (most recent call last)",
      "Cell \u001b[0;32mIn[179], line 1\u001b[0m\n\u001b[0;32m----> 1\u001b[0m \u001b[43mpd\u001b[49m\u001b[38;5;241;43m.\u001b[39;49m\u001b[43mread_csv\u001b[49m\u001b[43m(\u001b[49m\u001b[38;5;124;43m\"\u001b[39;49m\u001b[38;5;124;43m../data/null.csv\u001b[39;49m\u001b[38;5;124;43m\"\u001b[39;49m\u001b[43m)\u001b[49m\n",
      "File \u001b[0;32m~/.pyenv/versions/3.8.12/lib/python3.8/site-packages/pandas/util/_decorators.py:311\u001b[0m, in \u001b[0;36mdeprecate_nonkeyword_arguments.<locals>.decorate.<locals>.wrapper\u001b[0;34m(*args, **kwargs)\u001b[0m\n\u001b[1;32m    305\u001b[0m \u001b[38;5;28;01mif\u001b[39;00m \u001b[38;5;28mlen\u001b[39m(args) \u001b[38;5;241m>\u001b[39m num_allow_args:\n\u001b[1;32m    306\u001b[0m     warnings\u001b[38;5;241m.\u001b[39mwarn(\n\u001b[1;32m    307\u001b[0m         msg\u001b[38;5;241m.\u001b[39mformat(arguments\u001b[38;5;241m=\u001b[39marguments),\n\u001b[1;32m    308\u001b[0m         \u001b[38;5;167;01mFutureWarning\u001b[39;00m,\n\u001b[1;32m    309\u001b[0m         stacklevel\u001b[38;5;241m=\u001b[39mstacklevel,\n\u001b[1;32m    310\u001b[0m     )\n\u001b[0;32m--> 311\u001b[0m \u001b[38;5;28;01mreturn\u001b[39;00m \u001b[43mfunc\u001b[49m\u001b[43m(\u001b[49m\u001b[38;5;241;43m*\u001b[39;49m\u001b[43margs\u001b[49m\u001b[43m,\u001b[49m\u001b[43m \u001b[49m\u001b[38;5;241;43m*\u001b[39;49m\u001b[38;5;241;43m*\u001b[39;49m\u001b[43mkwargs\u001b[49m\u001b[43m)\u001b[49m\n",
      "File \u001b[0;32m~/.pyenv/versions/3.8.12/lib/python3.8/site-packages/pandas/io/parsers/readers.py:678\u001b[0m, in \u001b[0;36mread_csv\u001b[0;34m(filepath_or_buffer, sep, delimiter, header, names, index_col, usecols, squeeze, prefix, mangle_dupe_cols, dtype, engine, converters, true_values, false_values, skipinitialspace, skiprows, skipfooter, nrows, na_values, keep_default_na, na_filter, verbose, skip_blank_lines, parse_dates, infer_datetime_format, keep_date_col, date_parser, dayfirst, cache_dates, iterator, chunksize, compression, thousands, decimal, lineterminator, quotechar, quoting, doublequote, escapechar, comment, encoding, encoding_errors, dialect, error_bad_lines, warn_bad_lines, on_bad_lines, delim_whitespace, low_memory, memory_map, float_precision, storage_options)\u001b[0m\n\u001b[1;32m    663\u001b[0m kwds_defaults \u001b[38;5;241m=\u001b[39m _refine_defaults_read(\n\u001b[1;32m    664\u001b[0m     dialect,\n\u001b[1;32m    665\u001b[0m     delimiter,\n\u001b[0;32m   (...)\u001b[0m\n\u001b[1;32m    674\u001b[0m     defaults\u001b[38;5;241m=\u001b[39m{\u001b[38;5;124m\"\u001b[39m\u001b[38;5;124mdelimiter\u001b[39m\u001b[38;5;124m\"\u001b[39m: \u001b[38;5;124m\"\u001b[39m\u001b[38;5;124m,\u001b[39m\u001b[38;5;124m\"\u001b[39m},\n\u001b[1;32m    675\u001b[0m )\n\u001b[1;32m    676\u001b[0m kwds\u001b[38;5;241m.\u001b[39mupdate(kwds_defaults)\n\u001b[0;32m--> 678\u001b[0m \u001b[38;5;28;01mreturn\u001b[39;00m \u001b[43m_read\u001b[49m\u001b[43m(\u001b[49m\u001b[43mfilepath_or_buffer\u001b[49m\u001b[43m,\u001b[49m\u001b[43m \u001b[49m\u001b[43mkwds\u001b[49m\u001b[43m)\u001b[49m\n",
      "File \u001b[0;32m~/.pyenv/versions/3.8.12/lib/python3.8/site-packages/pandas/io/parsers/readers.py:575\u001b[0m, in \u001b[0;36m_read\u001b[0;34m(filepath_or_buffer, kwds)\u001b[0m\n\u001b[1;32m    572\u001b[0m _validate_names(kwds\u001b[38;5;241m.\u001b[39mget(\u001b[38;5;124m\"\u001b[39m\u001b[38;5;124mnames\u001b[39m\u001b[38;5;124m\"\u001b[39m, \u001b[38;5;28;01mNone\u001b[39;00m))\n\u001b[1;32m    574\u001b[0m \u001b[38;5;66;03m# Create the parser.\u001b[39;00m\n\u001b[0;32m--> 575\u001b[0m parser \u001b[38;5;241m=\u001b[39m \u001b[43mTextFileReader\u001b[49m\u001b[43m(\u001b[49m\u001b[43mfilepath_or_buffer\u001b[49m\u001b[43m,\u001b[49m\u001b[43m \u001b[49m\u001b[38;5;241;43m*\u001b[39;49m\u001b[38;5;241;43m*\u001b[39;49m\u001b[43mkwds\u001b[49m\u001b[43m)\u001b[49m\n\u001b[1;32m    577\u001b[0m \u001b[38;5;28;01mif\u001b[39;00m chunksize \u001b[38;5;129;01mor\u001b[39;00m iterator:\n\u001b[1;32m    578\u001b[0m     \u001b[38;5;28;01mreturn\u001b[39;00m parser\n",
      "File \u001b[0;32m~/.pyenv/versions/3.8.12/lib/python3.8/site-packages/pandas/io/parsers/readers.py:932\u001b[0m, in \u001b[0;36mTextFileReader.__init__\u001b[0;34m(self, f, engine, **kwds)\u001b[0m\n\u001b[1;32m    929\u001b[0m     \u001b[38;5;28mself\u001b[39m\u001b[38;5;241m.\u001b[39moptions[\u001b[38;5;124m\"\u001b[39m\u001b[38;5;124mhas_index_names\u001b[39m\u001b[38;5;124m\"\u001b[39m] \u001b[38;5;241m=\u001b[39m kwds[\u001b[38;5;124m\"\u001b[39m\u001b[38;5;124mhas_index_names\u001b[39m\u001b[38;5;124m\"\u001b[39m]\n\u001b[1;32m    931\u001b[0m \u001b[38;5;28mself\u001b[39m\u001b[38;5;241m.\u001b[39mhandles: IOHandles \u001b[38;5;241m|\u001b[39m \u001b[38;5;28;01mNone\u001b[39;00m \u001b[38;5;241m=\u001b[39m \u001b[38;5;28;01mNone\u001b[39;00m\n\u001b[0;32m--> 932\u001b[0m \u001b[38;5;28mself\u001b[39m\u001b[38;5;241m.\u001b[39m_engine \u001b[38;5;241m=\u001b[39m \u001b[38;5;28;43mself\u001b[39;49m\u001b[38;5;241;43m.\u001b[39;49m\u001b[43m_make_engine\u001b[49m\u001b[43m(\u001b[49m\u001b[43mf\u001b[49m\u001b[43m,\u001b[49m\u001b[43m \u001b[49m\u001b[38;5;28;43mself\u001b[39;49m\u001b[38;5;241;43m.\u001b[39;49m\u001b[43mengine\u001b[49m\u001b[43m)\u001b[49m\n",
      "File \u001b[0;32m~/.pyenv/versions/3.8.12/lib/python3.8/site-packages/pandas/io/parsers/readers.py:1234\u001b[0m, in \u001b[0;36mTextFileReader._make_engine\u001b[0;34m(self, f, engine)\u001b[0m\n\u001b[1;32m   1231\u001b[0m     \u001b[38;5;28;01mraise\u001b[39;00m \u001b[38;5;167;01mValueError\u001b[39;00m(msg)\n\u001b[1;32m   1233\u001b[0m \u001b[38;5;28;01mtry\u001b[39;00m:\n\u001b[0;32m-> 1234\u001b[0m     \u001b[38;5;28;01mreturn\u001b[39;00m \u001b[43mmapping\u001b[49m\u001b[43m[\u001b[49m\u001b[43mengine\u001b[49m\u001b[43m]\u001b[49m\u001b[43m(\u001b[49m\u001b[43mf\u001b[49m\u001b[43m,\u001b[49m\u001b[43m \u001b[49m\u001b[38;5;241;43m*\u001b[39;49m\u001b[38;5;241;43m*\u001b[39;49m\u001b[38;5;28;43mself\u001b[39;49m\u001b[38;5;241;43m.\u001b[39;49m\u001b[43moptions\u001b[49m\u001b[43m)\u001b[49m\n\u001b[1;32m   1235\u001b[0m \u001b[38;5;28;01mexcept\u001b[39;00m \u001b[38;5;167;01mException\u001b[39;00m:\n\u001b[1;32m   1236\u001b[0m     \u001b[38;5;28;01mif\u001b[39;00m \u001b[38;5;28mself\u001b[39m\u001b[38;5;241m.\u001b[39mhandles \u001b[38;5;129;01mis\u001b[39;00m \u001b[38;5;129;01mnot\u001b[39;00m \u001b[38;5;28;01mNone\u001b[39;00m:\n",
      "File \u001b[0;32m~/.pyenv/versions/3.8.12/lib/python3.8/site-packages/pandas/io/parsers/c_parser_wrapper.py:75\u001b[0m, in \u001b[0;36mCParserWrapper.__init__\u001b[0;34m(self, src, **kwds)\u001b[0m\n\u001b[1;32m     72\u001b[0m     kwds\u001b[38;5;241m.\u001b[39mpop(key, \u001b[38;5;28;01mNone\u001b[39;00m)\n\u001b[1;32m     74\u001b[0m kwds[\u001b[38;5;124m\"\u001b[39m\u001b[38;5;124mdtype\u001b[39m\u001b[38;5;124m\"\u001b[39m] \u001b[38;5;241m=\u001b[39m ensure_dtype_objs(kwds\u001b[38;5;241m.\u001b[39mget(\u001b[38;5;124m\"\u001b[39m\u001b[38;5;124mdtype\u001b[39m\u001b[38;5;124m\"\u001b[39m, \u001b[38;5;28;01mNone\u001b[39;00m))\n\u001b[0;32m---> 75\u001b[0m \u001b[38;5;28mself\u001b[39m\u001b[38;5;241m.\u001b[39m_reader \u001b[38;5;241m=\u001b[39m \u001b[43mparsers\u001b[49m\u001b[38;5;241;43m.\u001b[39;49m\u001b[43mTextReader\u001b[49m\u001b[43m(\u001b[49m\u001b[43msrc\u001b[49m\u001b[43m,\u001b[49m\u001b[43m \u001b[49m\u001b[38;5;241;43m*\u001b[39;49m\u001b[38;5;241;43m*\u001b[39;49m\u001b[43mkwds\u001b[49m\u001b[43m)\u001b[49m\n\u001b[1;32m     77\u001b[0m \u001b[38;5;28mself\u001b[39m\u001b[38;5;241m.\u001b[39munnamed_cols \u001b[38;5;241m=\u001b[39m \u001b[38;5;28mself\u001b[39m\u001b[38;5;241m.\u001b[39m_reader\u001b[38;5;241m.\u001b[39munnamed_cols\n\u001b[1;32m     79\u001b[0m \u001b[38;5;66;03m# error: Cannot determine type of 'names'\u001b[39;00m\n",
      "File \u001b[0;32m~/.pyenv/versions/3.8.12/lib/python3.8/site-packages/pandas/_libs/parsers.pyx:544\u001b[0m, in \u001b[0;36mpandas._libs.parsers.TextReader.__cinit__\u001b[0;34m()\u001b[0m\n",
      "File \u001b[0;32m~/.pyenv/versions/3.8.12/lib/python3.8/site-packages/pandas/_libs/parsers.pyx:633\u001b[0m, in \u001b[0;36mpandas._libs.parsers.TextReader._get_header\u001b[0;34m()\u001b[0m\n",
      "File \u001b[0;32m~/.pyenv/versions/3.8.12/lib/python3.8/site-packages/pandas/_libs/parsers.pyx:847\u001b[0m, in \u001b[0;36mpandas._libs.parsers.TextReader._tokenize_rows\u001b[0;34m()\u001b[0m\n",
      "File \u001b[0;32m~/.pyenv/versions/3.8.12/lib/python3.8/site-packages/pandas/_libs/parsers.pyx:1952\u001b[0m, in \u001b[0;36mpandas._libs.parsers.raise_parser_error\u001b[0;34m()\u001b[0m\n",
      "\u001b[0;31mUnicodeDecodeError\u001b[0m: 'utf-8' codec can't decode byte 0xb5 in position 310: invalid start byte"
     ]
    }
   ],
   "source": [
    "pd.read_csv(\"../data/null.csv\")"
   ]
  },
  {
   "cell_type": "code",
   "execution_count": null,
   "id": "0234fa65-eb86-4578-986b-9a54c7f9e40b",
   "metadata": {},
   "outputs": [],
   "source": []
  }
 ],
 "metadata": {
  "kernelspec": {
   "display_name": "Python 3 (ipykernel)",
   "language": "python",
   "name": "python3"
  }
 },
 "nbformat": 4,
 "nbformat_minor": 5
}
