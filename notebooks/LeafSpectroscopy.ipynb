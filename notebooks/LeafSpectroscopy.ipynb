{
 "cells": [
  {
   "cell_type": "markdown",
   "id": "57ce0bf4-2efc-43db-b299-37834ddda553",
   "metadata": {},
   "source": [
    "---\n",
    "title: \"LeafSpectroscopy\"\n",
    "author: \"Yiwei Mao\"\n",
    "date: \"11/05/2023\"\n",
    "format:\n",
    "  html:\n",
    "    code-tools: true\n",
    "    code-fold: true\n",
    "jupyter: julia-1.9\n",
    "---"
   ]
  },
  {
   "cell_type": "code",
   "execution_count": null,
   "id": "3ce57e3f-6752-4e11-8156-35c54291376a",
   "metadata": {},
   "outputs": [],
   "source": [
    "using Pkg; Pkg.activate(\".\")"
   ]
  },
  {
   "cell_type": "code",
   "execution_count": null,
   "id": "63acbb91-7c3c-405e-a4ef-2055c671b36e",
   "metadata": {},
   "outputs": [],
   "source": [
    "module LeafSpectroscopy\n",
    "\n",
    "#export MyType\n",
    "# stuff\n",
    "end"
   ]
  },
  {
   "cell_type": "code",
   "execution_count": null,
   "id": "eca0e359-9f9b-4ece-90f7-5750cefd5469",
   "metadata": {},
   "outputs": [],
   "source": []
  },
  {
   "cell_type": "code",
   "execution_count": null,
   "id": "99c9e874-008e-427d-bbd6-17575f1760e4",
   "metadata": {},
   "outputs": [],
   "source": []
  }
 ],
 "metadata": {
  "kernelspec": {
   "display_name": "Julia 1.9.3",
   "language": "julia",
   "name": "julia-1.9"
  }
 },
 "nbformat": 4,
 "nbformat_minor": 5
}
