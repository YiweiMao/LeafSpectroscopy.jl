{
 "cells": [
  {
   "cell_type": "markdown",
   "id": "c2220a6d-805f-4a4b-a365-edbca4e6d9c4",
   "metadata": {},
   "source": [
    "---\n",
    "title: \"Using Julia for the first time\"\n",
    "author: \"Yiwei Mao\"\n",
    "date: \"11/04/2023\"\n",
    "format:\n",
    "  html:\n",
    "    code-fold: false\n",
    "jupyter: julia-1.9\n",
    "---"
   ]
  },
  {
   "cell_type": "markdown",
   "id": "297d7507-8ffb-4269-8a60-a0955b111051",
   "metadata": {},
   "source": [
    "\n",
    "Julia is a functional program language"
   ]
  },
  {
   "cell_type": "code",
   "execution_count": null,
   "id": "aa4182d1-3f1b-4b8d-83c5-74d5348c2310",
   "metadata": {},
   "outputs": [],
   "source": [
    "using Pkg"
   ]
  },
  {
   "cell_type": "markdown",
   "id": "d10d0173-19a5-4ae0-8e82-8f3e2e6aa35c",
   "metadata": {},
   "source": []
  },
  {
   "cell_type": "code",
   "execution_count": null,
   "id": "818a7c11-2de1-42e2-9ee1-1b219caf0594",
   "metadata": {},
   "outputs": [],
   "source": [
    "Pkg.add(\"IJulia\")"
   ]
  },
  {
   "cell_type": "code",
   "execution_count": null,
   "id": "01ae9295-b0dc-4935-a505-2f59a667232c",
   "metadata": {},
   "outputs": [],
   "source": [
    "Pkg.add(\"PlotlyJS\")"
   ]
  },
  {
   "cell_type": "markdown",
   "id": "b252c723-f764-4b6b-ada4-319a0472ff9c",
   "metadata": {},
   "source": [
    "To use the Plotly backend, just run\n",
    "\n",
    ":::{.callout-important}\n",
    "using PlotlyJS\n",
    ":::\n",
    "\n",
    "and "
   ]
  },
  {
   "cell_type": "markdown",
   "id": "378b2ea4-e03f-4bc3-a10a-52945c3ca965",
   "metadata": {},
   "source": [
    "### Revise.jl\n",
    "\n"
   ]
  }
 ],
 "metadata": {
  "kernelspec": {
   "display_name": "Julia 1.9.3",
   "language": "julia",
   "name": "julia-1.9"
  }
 },
 "nbformat": 4,
 "nbformat_minor": 5
}
