{
 "cells": [
  {
   "cell_type": "markdown",
   "id": "280b14b6-a4c5-4edd-8f2b-317d9dfc0cdf",
   "metadata": {},
   "source": [
    "---\n",
    "title: \"About\"\n",
    "author: \"Yiwei Mao\"\n",
    "date: \"11/04/2023\"\n",
    "format:\n",
    "  html:\n",
    "    code-fold: true\n",
    "jupyter: julia-1.9\n",
    "---"
   ]
  },
  {
   "cell_type": "code",
   "execution_count": null,
   "id": "9e278d74-9877-4db7-a3fe-643d6fdc6912",
   "metadata": {},
   "outputs": [],
   "source": []
  }
 ],
 "metadata": {
  "kernelspec": {
   "display_name": "Julia 1.9.3",
   "language": "julia",
   "name": "julia-1.9"
  }
 },
 "nbformat": 4,
 "nbformat_minor": 5
}
